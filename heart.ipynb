{
 "cells": [
  {
   "cell_type": "markdown",
   "id": "3709aac2",
   "metadata": {},
   "source": [
    "# Import Libraries"
   ]
  },
  {
   "cell_type": "code",
   "execution_count": null,
   "id": "ceed272c",
   "metadata": {},
   "outputs": [],
   "source": [
    "#Code Block 1\n",
    "\n",
    "import numpy as np\n",
    "import pandas as pd\n",
    "import matplotlib.pyplot as plt\n",
    "import seaborn as sns\n",
    "\n",
    "from pandas_profiling import ProfileReport\n",
    "\n",
    "from sklearn import preprocessing\n",
    "\n",
    "import warnings\n",
    "warnings.filterwarnings('ignore')\n",
    "\n",
    "%matplotlib inline\n",
    "\n",
    "pd.set_option('display.max_columns',500) \n",
    "\n",
    "plt.style.use('seaborn-colorblind') #a style that can be used for plots\n",
    "\n",
    "sns.set_style('whitegrid')"
   ]
  },
  {
   "cell_type": "markdown",
   "id": "28aa8795",
   "metadata": {},
   "source": [
    "# Import Data"
   ]
  },
  {
   "cell_type": "code",
   "execution_count": null,
   "id": "d0748e8e",
   "metadata": {},
   "outputs": [],
   "source": [
    "#Code Block 2\n",
    "\n",
    "heart = pd.read_csv('data/heart_failure_clinical_records_dataset.csv.xls', index_col = None, header = 0)\n",
    "heart.info()"
   ]
  },
  {
   "cell_type": "code",
   "execution_count": null,
   "id": "86c0119b",
   "metadata": {},
   "outputs": [],
   "source": [
    "#Code Block 3\n",
    "\n",
    "heart.head()"
   ]
  },
  {
   "cell_type": "markdown",
   "id": "821e5b30",
   "metadata": {},
   "source": [
    "# Exploring the Data"
   ]
  },
  {
   "cell_type": "code",
   "execution_count": null,
   "id": "575ffbff",
   "metadata": {},
   "outputs": [],
   "source": [
    "#Code Block 4\n",
    "\n",
    "heart.describe()"
   ]
  },
  {
   "cell_type": "code",
   "execution_count": null,
   "id": "badc6eb9",
   "metadata": {
    "scrolled": true
   },
   "outputs": [],
   "source": [
    "#Code Block 5\n",
    "\n",
    "profile = ProfileReport(heart)\n",
    "profile"
   ]
  },
  {
   "cell_type": "code",
   "execution_count": null,
   "id": "626a7b02",
   "metadata": {},
   "outputs": [],
   "source": [
    "#Code Block 6\n",
    "\n",
    "heart['time'].sort_values().value_counts()\n",
    "#see vlue counts for time"
   ]
  },
  {
   "cell_type": "code",
   "execution_count": null,
   "id": "926f66ad",
   "metadata": {},
   "outputs": [],
   "source": [
    "#Code Block 7\n",
    "\n",
    "heart['sex'].value_counts()\n",
    "#to see how many women and men we have in our dataset (1 for men and 0 for women)"
   ]
  },
  {
   "cell_type": "code",
   "execution_count": null,
   "id": "7c9f9725",
   "metadata": {},
   "outputs": [],
   "source": [
    "#Code Block 8\n",
    "\n",
    "heart['age'].value_counts()\n",
    "#to see age value counts"
   ]
  },
  {
   "cell_type": "code",
   "execution_count": null,
   "id": "047728a8",
   "metadata": {},
   "outputs": [],
   "source": [
    "#Code Block 9\n",
    "\n",
    "(heart[\"serum_creatinine\"] > 2).value_counts()\n",
    "#to see value counts for serum_creatinine greater than 2 as 2 is above normal level"
   ]
  },
  {
   "cell_type": "code",
   "execution_count": null,
   "id": "a50041ed",
   "metadata": {},
   "outputs": [],
   "source": [
    "#Code Block 10\n",
    "\n",
    "serum_creatinin = heart[heart[\"serum_creatinine\"] > 2]\n",
    "#create a dataframe for serum_xreatinine above 2\n",
    "serum_creatinin['DEATH_EVENT'].value_counts()\n",
    "#to see how many death happened for patients with high level of serum_creatinine"
   ]
  },
  {
   "cell_type": "markdown",
   "id": "4921194d",
   "metadata": {},
   "source": [
    "### See how many patients died and how many are men or female "
   ]
  },
  {
   "cell_type": "code",
   "execution_count": null,
   "id": "20bbc51b",
   "metadata": {},
   "outputs": [],
   "source": [
    "#Code Block 11\n",
    "\n",
    "heart['DEATH_EVENT'].value_counts()"
   ]
  },
  {
   "cell_type": "code",
   "execution_count": null,
   "id": "eb575091",
   "metadata": {},
   "outputs": [],
   "source": [
    "#Code Block 12\n",
    "\n",
    "heart[heart['DEATH_EVENT'] == 1].value_counts('sex')"
   ]
  },
  {
   "cell_type": "markdown",
   "id": "93c7d234",
   "metadata": {},
   "source": [
    "### See how many patients smoked"
   ]
  },
  {
   "cell_type": "code",
   "execution_count": null,
   "id": "9300de93",
   "metadata": {},
   "outputs": [],
   "source": [
    "#Code Block 13\n",
    "\n",
    "heart['smoking'].value_counts()"
   ]
  },
  {
   "cell_type": "markdown",
   "id": "dc7dd3e9",
   "metadata": {},
   "source": [
    "### See how many smoked patients are men and how many are female\n",
    "- create a dataframe for smoked patients "
   ]
  },
  {
   "cell_type": "code",
   "execution_count": null,
   "id": "050b0d2b",
   "metadata": {},
   "outputs": [],
   "source": [
    "#Code Block 14\n",
    "\n",
    "smoke = heart[heart['smoking'] == 1]\n",
    "#create a dataframe for smoked patients \n",
    "smoke['sex'].value_counts()\n",
    "#to see the number of smoked men and women"
   ]
  },
  {
   "cell_type": "markdown",
   "id": "1f35636a",
   "metadata": {},
   "source": [
    "### See how many of smoked patients died "
   ]
  },
  {
   "cell_type": "code",
   "execution_count": null,
   "id": "a9cc6d2b",
   "metadata": {},
   "outputs": [],
   "source": [
    "#Code Block 15\n",
    "\n",
    "smoke['DEATH_EVENT'].value_counts()"
   ]
  },
  {
   "cell_type": "markdown",
   "id": "57ead756",
   "metadata": {},
   "source": [
    "### See how many of smoked patients who died are men and how many are female"
   ]
  },
  {
   "cell_type": "code",
   "execution_count": null,
   "id": "ec5e843f",
   "metadata": {},
   "outputs": [],
   "source": [
    "#Code Block 16\n",
    "\n",
    "smoke[smoke['sex'] == 0].value_counts('DEATH_EVENT')\n",
    "#number of death for smoked female patients "
   ]
  },
  {
   "cell_type": "code",
   "execution_count": null,
   "id": "e8531aab",
   "metadata": {},
   "outputs": [],
   "source": [
    "#Code Block 17\n",
    "\n",
    "smoke[smoke['sex'] == 1].value_counts('DEATH_EVENT')\n",
    "#number of death for smoked male patients "
   ]
  },
  {
   "cell_type": "code",
   "execution_count": null,
   "id": "652c2048",
   "metadata": {},
   "outputs": [],
   "source": [
    "#Code Block 17\n",
    "\n",
    "women_smoke = smoke[smoke['sex'] == 0]\n",
    "#dataframe for women who smoked "
   ]
  },
  {
   "cell_type": "markdown",
   "id": "8032a08c",
   "metadata": {},
   "source": [
    "### Detect the outliers by visualizing with boxplot "
   ]
  },
  {
   "cell_type": "code",
   "execution_count": null,
   "id": "5284cf58",
   "metadata": {},
   "outputs": [],
   "source": [
    "#Code Block 18\n",
    "\n",
    "chart = sns.boxplot(x = \"serum_creatinine\",  data = heart, palette = 'deep')"
   ]
  },
  {
   "cell_type": "code",
   "execution_count": null,
   "id": "93e09a8b",
   "metadata": {},
   "outputs": [],
   "source": [
    "#Code Block 19\n",
    "\n",
    "plt.figure(figsize = (20,16))\n",
    "\n",
    "chart = sns.boxplot(x = \"creatinine_phosphokinase\",  data = heart, palette = 'deep')\n"
   ]
  },
  {
   "cell_type": "code",
   "execution_count": null,
   "id": "9ad7f9ed",
   "metadata": {},
   "outputs": [],
   "source": [
    "#Code Block 20\n",
    "\n",
    "chart = sns.boxplot(x = \"ejection_fraction\",  data = heart, palette = 'deep')"
   ]
  },
  {
   "cell_type": "code",
   "execution_count": null,
   "id": "e412ecfd",
   "metadata": {},
   "outputs": [],
   "source": [
    "#Code Block 21\n",
    "\n",
    "chart = sns.boxplot(x = \"platelets\",  data = heart, palette = 'deep')"
   ]
  },
  {
   "cell_type": "code",
   "execution_count": null,
   "id": "f7dd5def",
   "metadata": {},
   "outputs": [],
   "source": [
    "#Code Block 22\n",
    "\n",
    "chart = sns.boxplot(x = \"serum_creatinine\",  data = heart, palette = 'deep')"
   ]
  },
  {
   "cell_type": "code",
   "execution_count": null,
   "id": "ba864642",
   "metadata": {},
   "outputs": [],
   "source": [
    "#Code Block 23\n",
    "chart = sns.boxplot(x = \"serum_sodium\",  data = heart, palette = 'deep')"
   ]
  },
  {
   "cell_type": "code",
   "execution_count": null,
   "id": "a579fa19",
   "metadata": {},
   "outputs": [],
   "source": [
    "#Code Block 24\n",
    "\n",
    "chart = sns.boxplot(x = \"serum_sodium\",  data = heart, palette = 'deep')"
   ]
  },
  {
   "cell_type": "markdown",
   "id": "580c17eb",
   "metadata": {},
   "source": [
    "## Cleansing the Data"
   ]
  },
  {
   "cell_type": "markdown",
   "id": "f82ee0cd",
   "metadata": {},
   "source": [
    "- Check the dataset for any duplication\n",
    "- Check for any missng value and null values\n",
    "- Drop time column as it doesn't have effect on DETH_EVENT we remove it from the dataset"
   ]
  },
  {
   "cell_type": "code",
   "execution_count": null,
   "id": "99d74e27",
   "metadata": {},
   "outputs": [],
   "source": [
    "#Code Block 25\n",
    "\n",
    "heart.duplicated().value_counts()"
   ]
  },
  {
   "cell_type": "markdown",
   "id": "fb73507b",
   "metadata": {},
   "source": [
    "# Visualize the Data"
   ]
  },
  {
   "cell_type": "code",
   "execution_count": null,
   "id": "172f796b",
   "metadata": {
    "scrolled": false
   },
   "outputs": [],
   "source": [
    "#Code Block 26\n",
    "\n",
    "smoke.groupby(['DEATH_EVENT']).sum().plot(kind = 'pie', y = 'sex', autopct='%1.0f%%')\n",
    "#pie chart for all death event for smoked patients(0 for female and 1 for male)"
   ]
  },
  {
   "cell_type": "code",
   "execution_count": null,
   "id": "41843b72",
   "metadata": {},
   "outputs": [],
   "source": [
    "#Code Block 27\n",
    "\n",
    "heart.head()"
   ]
  },
  {
   "cell_type": "code",
   "execution_count": null,
   "id": "e2460a9d",
   "metadata": {},
   "outputs": [],
   "source": [
    "#Code Block 28\n",
    "\n",
    "heart[['age', 'anaemia', 'creatinine_phosphokinase','diabetes', 'high_blood_pressure',\n",
    "       'serum_creatinine','sex', 'smoking', 'DEATH_EVENT']].describe()"
   ]
  },
  {
   "cell_type": "code",
   "execution_count": null,
   "id": "089ccece",
   "metadata": {},
   "outputs": [],
   "source": [
    "#Code Block 29\n",
    "\n",
    "heart.groupby(['smoking']).sum().plot(kind = 'pie', y = 'sex', autopct='%1.0f%%')"
   ]
  },
  {
   "cell_type": "code",
   "execution_count": null,
   "id": "66853ab7",
   "metadata": {},
   "outputs": [],
   "source": [
    "#Code Block 30\n",
    "\n",
    "sns.pairplot(heart)"
   ]
  },
  {
   "cell_type": "code",
   "execution_count": null,
   "id": "106d1b74",
   "metadata": {},
   "outputs": [],
   "source": [
    "#Code Block 31\n",
    "\n",
    "sns.pairplot(heart, hue ='DEATH_EVENT')"
   ]
  },
  {
   "cell_type": "code",
   "execution_count": null,
   "id": "570264ef",
   "metadata": {},
   "outputs": [],
   "source": [
    "#Code Block 32\n",
    "\n",
    "plt.figure(figsize = (10,8))\n",
    "\n",
    "heatmap = sns.heatmap(heart.corr(), vmin=-1, vmax=1, annot=True)\n",
    "plt.title('Correlation Heatmap',fontweight='bold', fontsize='22', horizontalalignment='center')"
   ]
  },
  {
   "cell_type": "code",
   "execution_count": null,
   "id": "7a1070bb",
   "metadata": {},
   "outputs": [],
   "source": [
    "#Code Block 33\n",
    "\n",
    "plt.figure(figsize = (10,8))\n",
    "\n",
    "heatmap = sns.heatmap(heart.corr()[['DEATH_EVENT']].sort_values(by='DEATH_EVENT', ascending=False),\n",
    "                      vmin=-1, vmax=1, annot=True, cmap='BrBG')\n",
    "plt.title('Features Correlation with DEATH_EVENT',fontweight='bold', fontsize='20', horizontalalignment='center')"
   ]
  },
  {
   "cell_type": "code",
   "execution_count": null,
   "id": "f4f406fd",
   "metadata": {},
   "outputs": [],
   "source": [
    "#Code Block 34\n",
    "\n",
    "women = heart[heart['sex'] == 0]\n",
    "men =  heart[heart['sex'] == 1]\n",
    "women.info()"
   ]
  },
  {
   "cell_type": "code",
   "execution_count": null,
   "id": "264e19e7",
   "metadata": {},
   "outputs": [],
   "source": [
    "#Code Block 35\n",
    "\n",
    "plt.figure(figsize = (10,8))\n",
    "\n",
    "heatmap = sns.heatmap(women.corr()[['DEATH_EVENT']].sort_values(by='DEATH_EVENT', ascending=False),\n",
    "                      vmin=-1, vmax=1, annot=True, cmap='BrBG')\n",
    "plt.title('Features Correlation with DEATH_EVENT for Women',fontweight='bold', fontsize='20', horizontalalignment='center')"
   ]
  },
  {
   "cell_type": "code",
   "execution_count": null,
   "id": "4e33eb60",
   "metadata": {},
   "outputs": [],
   "source": [
    "#Code Block 36 \n",
    "\n",
    "plt.figure(figsize = (10,8))\n",
    "\n",
    "heatmap = sns.heatmap(men.corr()[['DEATH_EVENT']].sort_values(by='DEATH_EVENT', ascending=False),\n",
    "                      vmin=-1, vmax=1, annot=True, cmap='BrBG')\n",
    "plt.title('Features Correlation with DEATH_EVENT for Men',fontweight='bold', fontsize='20', horizontalalignment='center')"
   ]
  },
  {
   "cell_type": "code",
   "execution_count": null,
   "id": "ca5aa91c",
   "metadata": {},
   "outputs": [],
   "source": [
    "#Code Block 37\n",
    "\n",
    "heart.groupby(['high_blood_pressure']).sum().plot(kind = 'pie', y = 'DEATH_EVENT', autopct='%1.0f%%')"
   ]
  },
  {
   "cell_type": "code",
   "execution_count": null,
   "id": "4e8e1b02",
   "metadata": {},
   "outputs": [],
   "source": [
    "#Code Block 38\n",
    "\n",
    "plt.figure(figsize = (20,16))\n",
    "\n",
    "sns.countplot(x = \"age\", data = heart, hue = 'DEATH_EVENT', palette = 'deep')\n",
    "plt.title('Count of Age based on DEATH_EVENT', fontweight='bold', color = 'blue', fontsize='18', horizontalalignment='center')"
   ]
  },
  {
   "cell_type": "code",
   "execution_count": null,
   "id": "b5597a0d",
   "metadata": {},
   "outputs": [],
   "source": [
    "#Code Block 39\n",
    "\n",
    "(heart['age'] > 70).value_counts()"
   ]
  },
  {
   "cell_type": "code",
   "execution_count": null,
   "id": "a51a4985",
   "metadata": {},
   "outputs": [],
   "source": [
    "#Code Block 40\n",
    "\n",
    "heart[heart['DEATH_EVENT'] == 1].value_counts('age')\n",
    "#see the value counts for age for dead patients"
   ]
  },
  {
   "cell_type": "code",
   "execution_count": null,
   "id": "24feeec2",
   "metadata": {},
   "outputs": [],
   "source": [
    "#Code Block 41\n",
    "\n",
    "death = heart[heart['DEATH_EVENT'] == 1]\n",
    "plt.figure(figsize = (20,16))\n",
    "\n",
    "sns.countplot(x = \"age\",  data = death, palette = 'deep')\n",
    "plt.title('DEATH_EVENT Count Based on Age',fontweight='bold', fontsize='18', horizontalalignment='center')\n",
    "plt.ylabel('DEATH_EVENT Count',fontweight='bold', fontsize='16', horizontalalignment='center')\n",
    "plt.xlabel('Age',fontweight='bold', fontsize='16', horizontalalignment='center')"
   ]
  },
  {
   "cell_type": "code",
   "execution_count": null,
   "id": "6dcd17f6",
   "metadata": {},
   "outputs": [],
   "source": [
    "#Code Block 42\n",
    "\n",
    "age70 = death[death['age'] >= 70]\n",
    "age70.value_counts('age').sum()"
   ]
  },
  {
   "cell_type": "code",
   "execution_count": null,
   "id": "39e1198c",
   "metadata": {},
   "outputs": [],
   "source": [
    "#Code Block 43\n",
    "\n",
    "plt.figure(figsize = (20,16))\n",
    "\n",
    "sns.countplot(x = \"age\",  data = death, hue = 'sex', palette = 'deep')\n"
   ]
  },
  {
   "cell_type": "code",
   "execution_count": null,
   "id": "6b6bf628",
   "metadata": {},
   "outputs": [],
   "source": [
    "#Code Block 44\n",
    "\n",
    "smoke = heart[heart['smoking'] == 1]\n",
    "smoke"
   ]
  },
  {
   "cell_type": "code",
   "execution_count": null,
   "id": "0d2a220e",
   "metadata": {},
   "outputs": [],
   "source": [
    "#Code Block 45\n",
    "\n",
    "(smoke['sex'] == 0).value_counts()\n",
    "#number of women who smoke"
   ]
  },
  {
   "cell_type": "code",
   "execution_count": null,
   "id": "7bc1960e",
   "metadata": {},
   "outputs": [],
   "source": [
    "#Code Block 46\n",
    "\n",
    "smok_m = smoke[smoke['sex'] == 1]\n",
    "smok_m['DEATH_EVENT'].value_counts()\n",
    "#see number of men who smoked and died"
   ]
  },
  {
   "cell_type": "code",
   "execution_count": null,
   "id": "852d4f1d",
   "metadata": {},
   "outputs": [],
   "source": [
    "#Code Block 47\n",
    "\n",
    "chart = sns.countplot(x = 'DEATH_EVENT',  data = heart, palette = 'deep')\n",
    "#plot a chart to show the number of death"
   ]
  },
  {
   "cell_type": "code",
   "execution_count": null,
   "id": "585ee85f",
   "metadata": {},
   "outputs": [],
   "source": [
    "#Code Block 48\n",
    "\n",
    "plt.figure(figsize = (20,16))\n",
    "\n",
    "chart = sns.countplot(x = 'DEATH_EVENT',  data = smoke, palette = 'deep')\n",
    "plt.title('Count of dead patients who smoked', fontweight='bold', color = 'blue', fontsize='27', horizontalalignment='center')\n",
    "plt.xlabel('DEATH_EVENT', fontweight='bold', color = 'green', fontsize='14', horizontalalignment='center')\n",
    "plt.ylabel('Count of Death', fontweight='bold', color = 'green', fontsize='14', horizontalalignment='center')\n",
    "#create a countplot for smoking patients' DEATH_EVENT"
   ]
  },
  {
   "cell_type": "code",
   "execution_count": null,
   "id": "4dd39bc9",
   "metadata": {},
   "outputs": [],
   "source": [
    "#Code Block 49\n",
    "\n",
    "sns.countplot(x = 'smoking',  data = heart, hue = 'DEATH_EVENT', palette = 'deep')"
   ]
  },
  {
   "cell_type": "code",
   "execution_count": null,
   "id": "65982f53",
   "metadata": {},
   "outputs": [],
   "source": [
    "#Code Block 50\n",
    "\n",
    "plt.figure(figsize = (10,8))\n",
    "\n",
    "sns.countplot(x = 'sex', data = smoke, palette = 'deep')\n",
    "plt.title('Count of Smoking Women and Men', fontweight='bold', color = 'blue', fontsize='27', horizontalalignment='center')\n",
    "plt.xlabel('Sex', fontweight='bold', fontsize='14', horizontalalignment='center')\n",
    "plt.ylabel('Death#', fontweight='bold', color = 'green', fontsize='14', horizontalalignment='center')"
   ]
  },
  {
   "cell_type": "code",
   "execution_count": null,
   "id": "f3b04e65",
   "metadata": {},
   "outputs": [],
   "source": [
    "#Code Block 51\n",
    "\n",
    "plt.figure(figsize = (10,8))\n",
    "\n",
    "sns.scatterplot(x = 'time', y = 'DEATH_EVENT', data = heart, palette = 'deep')\n",
    "plt.title('Scatterplot for follow-up time and DEATH EVENT', fontweight='bold', color = 'blue', fontsize='27', horizontalalignment='center')\n",
    "plt.xlabel('time', fontweight='bold', fontsize='14', horizontalalignment='center')\n",
    "plt.ylabel('DEATH_EVENT', fontweight='bold', color = 'green', fontsize='14', horizontalalignment='center')"
   ]
  },
  {
   "cell_type": "code",
   "execution_count": null,
   "id": "2683f095",
   "metadata": {},
   "outputs": [],
   "source": [
    "#Code Block 52\n",
    "\n",
    "plt.figure(figsize = (16,10))\n",
    "\n",
    "time100 = death[death[\"time\"] <= 100]\n",
    "sns.countplot(x = 'time', data = time100, palette = 'deep')\n",
    "plt.title('Count of death based on folow-up Time Under 100 Days', fontweight='bold', color = 'blue', fontsize='12', horizontalalignment='center')\n",
    "plt.xlabel('Time', fontweight='bold', fontsize='12', horizontalalignment='center')\n",
    "plt.ylabel('Death#', fontweight='bold', color = 'green', fontsize='12', horizontalalignment='center')"
   ]
  },
  {
   "cell_type": "code",
   "execution_count": null,
   "id": "481f88c6",
   "metadata": {},
   "outputs": [],
   "source": [
    "time100"
   ]
  },
  {
   "cell_type": "markdown",
   "id": "5657f2d4",
   "metadata": {},
   "source": [
    "-72 patients died in less than and equals to 100 follow-up days. \n",
    " "
   ]
  },
  {
   "cell_type": "code",
   "execution_count": null,
   "id": "b4946235",
   "metadata": {},
   "outputs": [],
   "source": [
    "#Code Block 53\n",
    "\n",
    "time100[time100['time'] <= 30].value_counts().sum()\n",
    "#the number of patients who died before and equally of 30 follow-up days"
   ]
  },
  {
   "cell_type": "code",
   "execution_count": null,
   "id": "b1dbfa0f",
   "metadata": {},
   "outputs": [],
   "source": [
    "#Code Block 54\n",
    "\n",
    "time100[time100['time'] <= 50].value_counts().sum()"
   ]
  },
  {
   "cell_type": "code",
   "execution_count": null,
   "id": "185d852d",
   "metadata": {},
   "outputs": [],
   "source": [
    "#Code Block 55\n",
    "\n",
    "plt.figure(figsize = (20,12))\n",
    "\n",
    "time250 = death[death[\"time\"] > 100]\n",
    "sns.countplot(x = 'time', data = time250, palette = 'deep')\n",
    "plt.title('Count of death based on folow-up Time Above 100 Days', fontweight='bold', color = 'blue', fontsize='27', horizontalalignment='center')\n",
    "plt.xlabel('Time', fontweight='bold', fontsize='14', horizontalalignment='center')\n",
    "plt.ylabel('Death#', fontweight='bold', color = 'green', fontsize='14', horizontalalignment='center')"
   ]
  },
  {
   "cell_type": "markdown",
   "id": "b4446b09",
   "metadata": {},
   "source": [
    "### Check the abnormality level of clinical records of patients and their influenced on number of death."
   ]
  },
  {
   "cell_type": "code",
   "execution_count": null,
   "id": "5f192552",
   "metadata": {},
   "outputs": [],
   "source": [
    "#Code Block 56\n",
    "\n",
    "death['ejection_fraction'].value_counts()"
   ]
  },
  {
   "cell_type": "code",
   "execution_count": null,
   "id": "53b0714e",
   "metadata": {},
   "outputs": [],
   "source": [
    "#Code Block 57\n",
    "\n",
    "(death['ejection_fraction'] < 50).value_counts()"
   ]
  },
  {
   "cell_type": "code",
   "execution_count": null,
   "id": "14d8ef11",
   "metadata": {},
   "outputs": [],
   "source": [
    "#Code Block 58\n",
    "chart = sns.histplot(x = \"ejection_fraction\",  data = death, palette = 'deep')\n",
    "plt.title('Count of death based on ejection_fraction level', fontweight='bold', color = 'blue', fontsize='12', horizontalalignment='center')\n",
    "plt.xlabel('ejection_fraction', fontweight='bold', fontsize='12', horizontalalignment='center')\n",
    "plt.ylabel('Death#', fontweight='bold', fontsize='12', horizontalalignment='center')"
   ]
  },
  {
   "cell_type": "code",
   "execution_count": null,
   "id": "b829f489",
   "metadata": {},
   "outputs": [],
   "source": [
    "#Code Block 59\n",
    "\n",
    "chart = sns.histplot(x = \"serum_creatinine\",  data = death, palette = 'deep')\n",
    "plt.title('Count of death based on serum creatinine level', fontweight='bold', color = 'blue', fontsize='12', horizontalalignment='center')\n",
    "plt.xlabel('serum_creatinine', fontweight='bold', fontsize='12', horizontalalignment='center')\n",
    "plt.ylabel('Death#', fontweight='bold', fontsize='12', horizontalalignment='center')"
   ]
  },
  {
   "cell_type": "code",
   "execution_count": null,
   "id": "20228d9b",
   "metadata": {},
   "outputs": [],
   "source": [
    "#Code Block 60\n",
    "\n",
    "death_w = death[death['sex'] == 0]\n",
    "#women who died\n",
    "death_m = death[death['sex'] == 1]\n",
    "#men who died \n",
    "w_crt = death_w[death_w['serum_creatinine'] > 1.1]\n",
    "#create a new dataframe for death women with higher serum_creatinine level than normal\n",
    "m_crt = death_w[death_w['serum_creatinine'] > 1.3]\n",
    "#create a new dataframe for death men with higher serum_creatinine level than normal"
   ]
  },
  {
   "cell_type": "code",
   "execution_count": null,
   "id": "398eec4a",
   "metadata": {},
   "outputs": [],
   "source": [
    "#Code Block 61\n",
    "\n",
    "chart = sns.histplot(x = \"serum_creatinine\",  data = w_crt, palette = 'deep')\n",
    "plt.title('Count of death among Women based on abnormality level of serum creatinine', fontweight='bold', color = 'blue', fontsize='12', horizontalalignment='center')\n",
    "plt.xlabel('serum_creatinine', fontweight='bold', fontsize='12', horizontalalignment='center')\n",
    "plt.ylabel('Women Death#' , fontweight='bold', fontsize='12', horizontalalignment='center')"
   ]
  },
  {
   "cell_type": "code",
   "execution_count": null,
   "id": "691de0b2",
   "metadata": {},
   "outputs": [],
   "source": [
    "#Code Block 62\n",
    "\n",
    "w_crt['serum_creatinine'].value_counts().sum()\n",
    "#number of death women with abnormality level of serum_creatinine "
   ]
  },
  {
   "cell_type": "code",
   "execution_count": null,
   "id": "88915f91",
   "metadata": {},
   "outputs": [],
   "source": [
    "#Code Block 63\n",
    "\n",
    "chart = sns.histplot(x = \"serum_creatinine\",  data = m_crt, palette = 'deep')\n",
    "plt.title('Count of death among Men based on abnormality level of serum creatinine', fontweight='bold', color = 'blue', fontsize='12', horizontalalignment='center')\n",
    "plt.xlabel('serum_creatinine', fontweight='bold', fontsize='12', horizontalalignment='center')\n",
    "plt.ylabel('Men Death#' , fontweight='bold', fontsize='12', horizontalalignment='center')"
   ]
  },
  {
   "cell_type": "code",
   "execution_count": null,
   "id": "7ff32289",
   "metadata": {},
   "outputs": [],
   "source": [
    "#Code Block 64\n",
    "\n",
    "m_crt['serum_creatinine'].value_counts().sum()"
   ]
  },
  {
   "cell_type": "code",
   "execution_count": null,
   "id": "9bab9311",
   "metadata": {},
   "outputs": [],
   "source": [
    "#Code Block 65\n",
    "\n",
    "plt.title('Count of death based on serum_sodium level', fontweight='bold', color = 'blue', fontsize='12', horizontalalignment='center')\n",
    "plt.chart = sns.histplot(x = \"serum_sodium\",  data = death, palette = 'deep')\n",
    "#xlabel('serum_sodium', fontweight='bold', fontsize='12', horizontalalignment='center')\n",
    "plt.ylabel('Death#', fontweight='bold', fontsize='12', horizontalalignment='center')"
   ]
  },
  {
   "cell_type": "code",
   "execution_count": null,
   "id": "67e2a57b",
   "metadata": {},
   "outputs": [],
   "source": [
    "#Code Block 66\n",
    "\n",
    "(death['serum_sodium'] < 135).value_counts()\n",
    "#number of dead with lower level of serum sodium than normal "
   ]
  },
  {
   "cell_type": "code",
   "execution_count": null,
   "id": "f013a40a",
   "metadata": {},
   "outputs": [],
   "source": [
    "#Code Block 67\n",
    "\n",
    "(death['serum_sodium'] > 145).value_counts()\n",
    "#number of dead with higher level of serum sodium than normal "
   ]
  },
  {
   "cell_type": "code",
   "execution_count": null,
   "id": "362344ee",
   "metadata": {},
   "outputs": [],
   "source": [
    "#Code Block 68\n",
    "\n",
    "chart = sns.histplot(x = \"platelets\",  data = death, palette = 'deep')"
   ]
  },
  {
   "cell_type": "code",
   "execution_count": null,
   "id": "11a2e1b0",
   "metadata": {},
   "outputs": [],
   "source": [
    "#Code Block 69\n",
    "\n",
    "(death['platelets'] < 150000).value_counts()"
   ]
  },
  {
   "cell_type": "code",
   "execution_count": null,
   "id": "3df71b3d",
   "metadata": {},
   "outputs": [],
   "source": [
    "#Code Block 70\n",
    "\n",
    "(death['platelets'] > 450000).value_counts()"
   ]
  },
  {
   "cell_type": "code",
   "execution_count": null,
   "id": "17875e67",
   "metadata": {},
   "outputs": [],
   "source": [
    "#Code Block 71\n",
    "\n",
    "plt.chart = sns.histplot(x = \"creatinine_phosphokinase\",  data = death, palette = 'deep')\n",
    "plt.title('Count of death based on creatinine_phosphokinase level', fontweight='bold', color = 'blue', fontsize='12', horizontalalignment='center')\n",
    "plt.xlabel('creatinine_phosphokinase', fontweight='bold', fontsize='12', horizontalalignment='center')\n",
    "plt.ylabel('Death#', fontweight='bold', fontsize='12', horizontalalignment='center')"
   ]
  },
  {
   "cell_type": "code",
   "execution_count": null,
   "id": "a49e40a4",
   "metadata": {},
   "outputs": [],
   "source": [
    "#Code Block 72\n",
    "\n",
    "(heart['creatinine_phosphokinase'] > 120).value_counts()"
   ]
  },
  {
   "cell_type": "code",
   "execution_count": null,
   "id": "fc47896d",
   "metadata": {},
   "outputs": [],
   "source": [
    "#Code Block 73\n",
    "\n",
    "(death['creatinine_phosphokinase'] > 120).value_counts()"
   ]
  },
  {
   "cell_type": "code",
   "execution_count": null,
   "id": "2c1e0849",
   "metadata": {},
   "outputs": [],
   "source": [
    "#Code Block 74\n",
    "\n",
    "(death_w['creatinine_phosphokinase'] > 120).value_counts()"
   ]
  },
  {
   "cell_type": "code",
   "execution_count": null,
   "id": "de153a8c",
   "metadata": {},
   "outputs": [],
   "source": [
    "#Code Block 75\n",
    "\n",
    "(death_m['creatinine_phosphokinase'] > 120).value_counts()"
   ]
  },
  {
   "cell_type": "code",
   "execution_count": null,
   "id": "af75dd7b",
   "metadata": {},
   "outputs": [],
   "source": [
    "#Code Block 76\n",
    "\n",
    "cpk120 = death[death['creatinine_phosphokinase'] > 120]\n",
    "cpk120['DEATH_EVENT']"
   ]
  },
  {
   "cell_type": "code",
   "execution_count": null,
   "id": "7c526bd9",
   "metadata": {},
   "outputs": [],
   "source": [
    "#Code Block 77\n",
    "\n",
    "anaem_d = death[death['anaemia'] == 1]\n",
    "anaem_d_diabt = anaem_d[anaem_d['diabetes'] == 1]\n",
    "anaem_d_diabt_high = anaem_d_diabt[anaem_d_diabt['high_blood_pressure'] == 1]\n",
    "(anaem_d_diabt['high_blood_pressure'] == 1).value_counts()"
   ]
  },
  {
   "cell_type": "code",
   "execution_count": null,
   "id": "b97a2974",
   "metadata": {},
   "outputs": [],
   "source": [
    "#Code Block 78\n",
    "\n",
    "anaem_d_diabt_high"
   ]
  },
  {
   "cell_type": "markdown",
   "id": "5034f2f6",
   "metadata": {},
   "source": [
    "- There are 6 patients with anaemia, diabets, high blodd pressure who died and they are all non-smoking men. "
   ]
  },
  {
   "cell_type": "code",
   "execution_count": null,
   "id": "af3db654",
   "metadata": {},
   "outputs": [],
   "source": [
    "#Code Block 79\n",
    "\n",
    "(women['diabetes']==1).value_counts()"
   ]
  },
  {
   "cell_type": "code",
   "execution_count": null,
   "id": "6bd04b46",
   "metadata": {},
   "outputs": [],
   "source": [
    "#Code Block 80\n",
    "\n",
    "(men['diabetes']==1).value_counts()"
   ]
  },
  {
   "cell_type": "code",
   "execution_count": null,
   "id": "bd36b957",
   "metadata": {},
   "outputs": [],
   "source": [
    "#Code Block 81\n",
    "\n",
    "(death_w['diabetes']==1).value_counts()"
   ]
  },
  {
   "cell_type": "code",
   "execution_count": null,
   "id": "98cd9784",
   "metadata": {},
   "outputs": [],
   "source": [
    "#Code Block 82\n",
    "\n",
    "(death_m['diabetes']==1).value_counts()"
   ]
  },
  {
   "cell_type": "code",
   "execution_count": null,
   "id": "c43ec4c6",
   "metadata": {},
   "outputs": [],
   "source": [
    "#Code Block 83\n",
    "\n",
    "death = heart[heart['DEATH_EVENT'] == 1]\n",
    "death.info()"
   ]
  },
  {
   "cell_type": "markdown",
   "id": "b140d6ee",
   "metadata": {},
   "source": [
    "### Compare statistics properties of some of the features among women and men based on who survived and died "
   ]
  },
  {
   "cell_type": "code",
   "execution_count": null,
   "id": "d66b8089",
   "metadata": {},
   "outputs": [],
   "source": [
    "#Code Block 84\n",
    "\n",
    "death.describe()"
   ]
  },
  {
   "cell_type": "code",
   "execution_count": null,
   "id": "f2c211f6",
   "metadata": {},
   "outputs": [],
   "source": [
    "#Code Block 85\n",
    "\n",
    "heart[['age', 'anaemia', 'creatinine_phosphokinase','diabetes', 'ejection_fraction',\n",
    "       'high_blood_pressure', 'platelets','serum_creatinine', 'sex', 'smoking','time',\n",
    "       'serum_sodium', 'DEATH_EVENT']].describe()"
   ]
  },
  {
   "cell_type": "code",
   "execution_count": null,
   "id": "45e276db",
   "metadata": {},
   "outputs": [],
   "source": [
    "#Code Block 86\n",
    "\n",
    "survived = heart[heart['DEATH_EVENT'] == 0]\n",
    "survived[['age', 'anaemia', 'creatinine_phosphokinase','diabetes', 'ejection_fraction',\n",
    "       'high_blood_pressure', 'platelets','serum_creatinine', 'serum_sodium', 'sex', \n",
    "       'smoking','time','DEATH_EVENT']].describe()"
   ]
  },
  {
   "cell_type": "code",
   "execution_count": null,
   "id": "e39c6343",
   "metadata": {},
   "outputs": [],
   "source": [
    "#Code Block 87\n",
    "\n",
    "death[['age', 'anaemia', 'creatinine_phosphokinase','diabetes', 'ejection_fraction',\n",
    "       'high_blood_pressure', 'platelets','serum_creatinine', 'serum_sodium', 'sex', \n",
    "       'smoking','time','DEATH_EVENT']].describe()"
   ]
  },
  {
   "cell_type": "code",
   "execution_count": null,
   "id": "9f5c6a73",
   "metadata": {},
   "outputs": [],
   "source": [
    "#Code Block 88\n",
    "\n",
    "death_w[['age', 'anaemia', 'creatinine_phosphokinase','diabetes', 'ejection_fraction',\n",
    "       'high_blood_pressure', 'platelets','serum_creatinine', 'serum_sodium',\n",
    "       'smoking','time']].describe()"
   ]
  },
  {
   "cell_type": "code",
   "execution_count": null,
   "id": "619329be",
   "metadata": {},
   "outputs": [],
   "source": [
    "#Code Block 78\n",
    "\n",
    "death_m[['age', 'anaemia', 'creatinine_phosphokinase','diabetes', 'ejection_fraction',\n",
    "       'high_blood_pressure', 'platelets','serum_creatinine', 'serum_sodium',\n",
    "       'smoking','time']].describe()"
   ]
  },
  {
   "cell_type": "markdown",
   "id": "22e4011f",
   "metadata": {},
   "source": [
    "## Logistic Regression Model"
   ]
  },
  {
   "cell_type": "markdown",
   "id": "5f9c75f4",
   "metadata": {},
   "source": [
    "### Import all libraries we need for logistic regression, decision tree and random forest classifications"
   ]
  },
  {
   "cell_type": "code",
   "execution_count": null,
   "id": "344883c4",
   "metadata": {},
   "outputs": [],
   "source": [
    "#Code Block 79\n",
    "\n",
    "heart.info('type')"
   ]
  },
  {
   "cell_type": "code",
   "execution_count": null,
   "id": "fa685b33",
   "metadata": {},
   "outputs": [],
   "source": [
    "#Code Block 80\n",
    "\n",
    "from sklearn.tree import DecisionTreeClassifier # to build a classification tree\n",
    "from sklearn.linear_model import LogisticRegression\n",
    "from sklearn.ensemble import RandomForestClassifier\n",
    "from sklearn import preprocessing\n",
    "from sklearn.model_selection import train_test_split # to split data into training and testing sets\n",
    "from sklearn.model_selection import cross_val_score # for cross validation\n",
    "from sklearn.metrics import confusion_matrix, classification_report # to create a confusion matrix and classification report\n",
    "from sklearn.metrics import plot_confusion_matrix # to draw a confusion matrix\n",
    "from sklearn import tree\n",
    "from sklearn.tree import plot_tree # to draw a classification tree\n",
    "from sklearn.metrics import precision_score, recall_score, f1_score\n",
    "from sklearn.metrics import roc_curve, roc_auc_score"
   ]
  },
  {
   "cell_type": "code",
   "execution_count": null,
   "id": "3eb29370",
   "metadata": {},
   "outputs": [],
   "source": [
    "#Code Block 81\n",
    "\n",
    "heart['age'] = heart['age'].astype(int)\n",
    "heart['platelets'] = heart['platelets'].astype(int)\n",
    "heart['serum_creatinine'] = heart['serum_creatinine'].astype(int)\n",
    "heart.info('type')\n",
    "#Resetting the data types to all integers"
   ]
  },
  {
   "cell_type": "code",
   "execution_count": null,
   "id": "9d2efa1e",
   "metadata": {},
   "outputs": [],
   "source": [
    "#Code Block 82\n",
    "\n",
    "X = heart.drop(['DEATH_EVENT'], axis = 1)\n",
    "y = heart['DEATH_EVENT']\n",
    "#create X and y dataset\n",
    "y.value_counts()"
   ]
  },
  {
   "cell_type": "code",
   "execution_count": null,
   "id": "29f8cb46",
   "metadata": {},
   "outputs": [],
   "source": [
    "#Code Block 83\n",
    "\n",
    "from sklearn.model_selection import train_test_split\n",
    "#import train_test_split  \n",
    "X_train, X_test, y_train, y_test = train_test_split(X, y, test_size = 0.3, random_state = 1)\n",
    "#split X and y datasets"
   ]
  },
  {
   "cell_type": "markdown",
   "id": "c97f5095",
   "metadata": {},
   "source": [
    "### Create the standard scaled versions of X_training and X_test datasets\n"
   ]
  },
  {
   "cell_type": "code",
   "execution_count": null,
   "id": "0744f41e",
   "metadata": {},
   "outputs": [],
   "source": [
    "#Code Block 84\n",
    "\n",
    "from sklearn.preprocessing import StandardScaler\n",
    "\n",
    "#standardize the data\n",
    "sc = preprocessing.StandardScaler()\n",
    "sc.fit(X_train)\n",
    "X_train_sc = sc.transform(X_train)\n",
    "X_train_sc = pd.DataFrame(X_train_sc, columns=X_train.columns)\n",
    "X_test_sc = sc.transform(X_test)\n",
    "X_test_sc = pd.DataFrame(X_test_sc, columns=X_test.columns)"
   ]
  },
  {
   "cell_type": "code",
   "execution_count": null,
   "id": "b47a6bc1",
   "metadata": {},
   "outputs": [],
   "source": [
    "#Code Block 85\n",
    "\n",
    "model = LogisticRegression()\n",
    "model.fit(X_train, y_train)\n",
    "#fit the model \n",
    "model_pred = model.predict(X_test)\n",
    "#predict \n",
    "score = model.score(X_test, y_test)\n",
    "print(\"LogisticRegression accuracy score is:\",score)\n",
    "report = classification_report(y_test, model_pred)\n",
    "print(report)"
   ]
  },
  {
   "cell_type": "code",
   "execution_count": null,
   "id": "d301e533",
   "metadata": {},
   "outputs": [],
   "source": [
    "#Code Block 86\n",
    "\n",
    "score = model.score(X_test, y_test)\n",
    "#score our model's accuracy\n",
    "print(score)"
   ]
  },
  {
   "cell_type": "code",
   "execution_count": null,
   "id": "d9c8aa36",
   "metadata": {},
   "outputs": [],
   "source": [
    "#Code Block 87\n",
    "\n",
    "print(confusion_matrix(y_test, model_pred))"
   ]
  },
  {
   "cell_type": "code",
   "execution_count": null,
   "id": "375a3516",
   "metadata": {},
   "outputs": [],
   "source": [
    "#Code Block 88\n",
    "\n",
    "display(y_test.value_counts())\n",
    "round(y_test.value_counts(normalize=True),5)"
   ]
  },
  {
   "cell_type": "code",
   "execution_count": null,
   "id": "5809ba4f",
   "metadata": {},
   "outputs": [],
   "source": [
    "#Code Block 89\n",
    "\n",
    "df_cm = pd.DataFrame(confusion_matrix(y_test, model_pred), columns = ['Pred_0', 'Pred_1'], index = ['Actual_0', 'Actual_1'])\n",
    "#make a dataframe for confusion matrix\n",
    "df_cm"
   ]
  },
  {
   "cell_type": "code",
   "execution_count": null,
   "id": "02bcbd6b",
   "metadata": {},
   "outputs": [],
   "source": [
    "#Code Block 91\n",
    "\n",
    "fig, axes = plt.subplots(nrows=1, ncols=1, sharex=True, figsize=(10, 6))\n",
    "fig.suptitle('Confusion Matrix for Logistic Regression for Heart Filure Prediction Data', \n",
    "             fontsize=16, y=1.05)\n",
    "ax = plt.subplot()\n",
    "sns.heatmap(df_cm, annot=True, cmap=\"Greens\", annot_kws={\"size\": 16}, ax=ax, fmt=\"g\")\n",
    "ax.set_xlabel('Predicted', fontsize=15)\n",
    "ax.set_ylabel('True', fontsize=15)\n",
    "ax.xaxis.set_ticklabels(['Survived', 'Dead'], fontsize=12)\n",
    "ax.yaxis.set_ticklabels(['Survived', 'Dead'], fontsize=12, va='center')\n",
    "plt.show()\n",
    "#create a heatmap for confusion matrix "
   ]
  },
  {
   "cell_type": "markdown",
   "id": "86413b43",
   "metadata": {},
   "source": [
    "### Classification Report"
   ]
  },
  {
   "cell_type": "code",
   "execution_count": null,
   "id": "d1c9815c",
   "metadata": {},
   "outputs": [],
   "source": [
    "#Code Block 92\n",
    "\n",
    "print('Accuracy Score:')\n",
    "print(score)\n",
    "print('')\n",
    "print('-----------------------------------------------------------')\n",
    "#Display the confusion matrix\n",
    "print('Confusion Matrix:')\n",
    "print(confusion_matrix(y_test, model_pred))\n",
    "print('')\n",
    "#Print the Classification Report\n",
    "print('-----------------------------------------------------------')\n",
    "print('Classification Report:')\n",
    "print(classification_report(y_test, model_pred, target_names=['Survived', 'Dead'], digits=4))"
   ]
  },
  {
   "cell_type": "markdown",
   "id": "0d537b3d",
   "metadata": {},
   "source": [
    "### View Precision and Recall Scores"
   ]
  },
  {
   "cell_type": "code",
   "execution_count": null,
   "id": "5d3e4dc4",
   "metadata": {},
   "outputs": [],
   "source": [
    "#Code Block 93\n",
    "\n",
    "recall = recall_score(y_test, model_pred)\n",
    "recall_format = 'Recall Score: {0:.4f}'.format(recall)\n",
    "print(recall_format)\n",
    "print('')\n",
    "precision = precision_score(y_test, model_pred)\n",
    "precision_format = 'Precision Score: {0:.4f}'.format(precision)\n",
    "print(precision_format)"
   ]
  },
  {
   "cell_type": "markdown",
   "id": "d29b2474",
   "metadata": {},
   "source": [
    "### ROC AUC Score"
   ]
  },
  {
   "cell_type": "code",
   "execution_count": null,
   "id": "dbac47e1",
   "metadata": {},
   "outputs": [],
   "source": [
    "#Code Block 94\n",
    "\n",
    "y_pred_prob = model.predict_proba(X_test)[:,1]\n",
    "\n",
    "fpr, tpr, thresholds = roc_curve(y_test, y_pred_prob)\n",
    "\n",
    "plt.plot([0, 1], [0, 1],'k--')\n",
    "plt.plot(fpr, tpr, label='Logistic Regression')\n",
    "plt.xlabel('False Positive Rate')\n",
    "plt.ylabel('True Positive Rate')\n",
    "plt.title('Logistic Regression ROC Curve')\n",
    "plt.show();\n",
    "\n",
    "# calculate roc curve\n",
    "fpr, tpr, thresholds = roc_curve(y_test,model_pred)"
   ]
  },
  {
   "cell_type": "code",
   "execution_count": null,
   "id": "1c0bebad",
   "metadata": {},
   "outputs": [],
   "source": [
    "#Code Block 95\n",
    "\n",
    "roc_auc_score(y_test, y_pred_prob)"
   ]
  },
  {
   "cell_type": "markdown",
   "id": "a838e4d3",
   "metadata": {},
   "source": [
    "### Create a Short Version of a Defined Function for Building a Model\n"
   ]
  },
  {
   "cell_type": "code",
   "execution_count": null,
   "id": "43e4f7b9",
   "metadata": {},
   "outputs": [],
   "source": [
    "#Code Block 96\n",
    "\n",
    "def shorttraintest(vartrain, vartest, y_train, y_test, model):\n",
    "\n",
    "    #Fit the model\n",
    "    model.fit(vartrain, y_train)\n",
    "\n",
    "    #Predict with the model\n",
    "    model_pred = model.predict(vartest)\n",
    "    model_prob = model.predict_proba(vartest)\n",
    "\n",
    "\n",
    "    print('Confusion Matrix:')\n",
    "    print(confusion_matrix(y_test, model_pred))\n",
    "    print(\"\")\n",
    "\n",
    "    #Assess with the model\n",
    "    score = model.score(vartest, y_test)\n",
    "    score_format = 'Accuracy Score: {0:.4f}'.format(score)\n",
    "    print(score_format)\n",
    "\n",
    "    recall = recall_score(y_test, model_pred)\n",
    "    recall_format = 'Recall Score: {0:.4f}'.format(recall)\n",
    "    print(recall_format)\n",
    "    \n",
    "    precision = precision_score(y_test, model_pred)\n",
    "    precision_format = 'Precision Score: {0:.4f}'.format(precision)\n",
    "    print(precision_format)\n",
    "    \n",
    "    # calculate roc curve\n",
    "    y_pred_prob = model.predict_proba(vartest)[:,1]\n",
    "    fpr, tpr, thresholds = roc_curve(y_test, y_pred_prob)\n",
    "    roc_auc = roc_auc_score(y_test, y_pred_prob)\n",
    "    roc_auc_format = 'ROC AUC Score: {0:.4f}'.format(roc_auc)\n",
    "    print(roc_auc_format)\n",
    "    print('')"
   ]
  },
  {
   "cell_type": "code",
   "execution_count": null,
   "id": "5ad82880",
   "metadata": {},
   "outputs": [],
   "source": [
    "#Code Block 97\n",
    "\n",
    "#Set the X training and test datasets\n",
    "vartrain = X_train_sc\n",
    "vartest = X_test_sc\n",
    "model = LogisticRegression(random_state=1)\n",
    "\n",
    "shorttraintest(vartrain, vartest, y_train, y_test, model)"
   ]
  },
  {
   "cell_type": "markdown",
   "id": "07dea184",
   "metadata": {},
   "source": [
    "### Use a For Loop to set C\n"
   ]
  },
  {
   "cell_type": "code",
   "execution_count": null,
   "id": "6130068d",
   "metadata": {
    "scrolled": false
   },
   "outputs": [],
   "source": [
    "#Code Block 98\n",
    "\n",
    "# finding the optimal model based on c\n",
    "\n",
    "C_penalty = [0.0001, 0.001, 0.01, 0.1, 0.5, 1, 5, 10, 100, 150, 500]\n",
    "vartrain = X_train_sc\n",
    "vartest = X_test_sc\n",
    "for c in C_penalty:\n",
    "    print('----------------------')\n",
    "    vartitle = \"Model with C: \" + str(c)\n",
    "    varC_penalty = c\n",
    "    model = LogisticRegression(random_state = 1, C=varC_penalty)\n",
    "    print(vartitle)\n",
    "    print('')\n",
    "    shorttraintest(vartrain, vartest, y_train, y_test, model)\n",
    "    print('----------------------')"
   ]
  },
  {
   "cell_type": "code",
   "execution_count": null,
   "id": "0686b097",
   "metadata": {},
   "outputs": [],
   "source": [
    "#Code Block 99\n",
    "\n",
    "# optmial model\n",
    "# we decided to set the optimal model with C = 10\n",
    "vartrain = X_train_sc\n",
    "vartest = X_test_sc\n",
    "model = LogisticRegression(random_state = 1, C = 0.1)\n",
    "\n",
    "shorttraintest(vartrain, vartest, y_train, y_test, model)\n"
   ]
  },
  {
   "cell_type": "code",
   "execution_count": null,
   "id": "5f5b27cb",
   "metadata": {
    "scrolled": true
   },
   "outputs": [],
   "source": [
    "#Code Block 100\n",
    "\n",
    "#decision model\n",
    "# seeing how the different settings for class weight effect the recall and precision score with c = 10\n",
    "cw = [None, 'balanced', {0:1, 1:1.5}, {0:1, 1:2}, {0:1, 1:2.5}, {0:1, 1:3}, {0:1, 1:3.5}, {0:1, 1:4}, \n",
    "      {0:1, 1:4.5},{0:1, 1:5}, {0:1, 1:5.5},{0:1, 1:10}, {0:1, 1:100}]\n",
    "\n",
    "vartrain = X_train_sc\n",
    "vartest = X_test_sc\n",
    "\n",
    "for w in cw:\n",
    "    print('----------------------')\n",
    "    vartitle = \"Model with Class Weight: \" + str(w)\n",
    "    varcw = w\n",
    "    model = LogisticRegression(random_state = 1, C = 0.1, class_weight=varcw)\n",
    "    print(vartitle)\n",
    "    print('')\n",
    "    shorttraintest(vartrain, vartest, y_train, y_test, model)\n",
    "    print('----------------------')"
   ]
  },
  {
   "cell_type": "markdown",
   "id": "3065da6f",
   "metadata": {},
   "source": [
    "### Using Logistic Regression create a model using scaled data\n"
   ]
  },
  {
   "cell_type": "code",
   "execution_count": null,
   "id": "8ba03a6c",
   "metadata": {},
   "outputs": [],
   "source": [
    "#Code Block 101\n",
    "\n",
    "# we decided to set the optimal model with class weight = None which give us the highest accuracy score\n",
    "vartrain = X_train_sc\n",
    "vartest = X_test_sc\n",
    "model = LogisticRegression(random_state = 1, C = 0.1, class_weight= None)\n",
    "\n",
    "shorttraintest(vartrain, vartest, y_train, y_test, model)"
   ]
  },
  {
   "cell_type": "markdown",
   "id": "3d22b2dd",
   "metadata": {},
   "source": [
    "### Randomized Search"
   ]
  },
  {
   "cell_type": "code",
   "execution_count": null,
   "id": "901f0573",
   "metadata": {},
   "outputs": [],
   "source": [
    "#Code Block 102\n",
    "\n",
    "from sklearn.model_selection import RandomizedSearchCV\n",
    "\n",
    "grid={\"C\":[0.1, 0.5, 1, 5, 10], \"penalty\":[\"l1\",\"l2\"], \n",
    "     \"class_weight\": [None, 'balanced', {0:1, 1:1.5}, {0:1, 1:2.5}, {0:1, 1:3}], \"solver\":['lbfgs', 'liblinear']}\n",
    "logreg = LogisticRegression(random_state=1)\n",
    "logreg_cv = RandomizedSearchCV(logreg,grid,cv=5)\n",
    "logreg_cv.fit(vartrain,y_train)\n",
    "\n",
    "print(\"tuned hyperparameters :(best parameters) \",logreg_cv.best_params_)\n",
    "print(\"accuracy :\",logreg_cv.best_score_)"
   ]
  },
  {
   "cell_type": "markdown",
   "id": "88760a75",
   "metadata": {},
   "source": [
    "### Grid Search"
   ]
  },
  {
   "cell_type": "code",
   "execution_count": null,
   "id": "b41b4ccb",
   "metadata": {},
   "outputs": [],
   "source": [
    "#Code Block 103\n",
    "\n",
    "from sklearn.model_selection import GridSearchCV\n",
    "\n",
    "grid={\"C\":[0.1, 0.5, 1, 5, 10], \"penalty\":[\"l1\",\"l2\",\"elasticnet\"], \n",
    "    \"class_weight\": [None, 'balanced', {0:1, 1:1.5}, {0:1, 1:2.5}, {0:1, 1:3}], \"solver\":['lbfgs', 'liblinear','saga']}\n",
    "logreg = LogisticRegression(random_state = 1)\n",
    "logreg_cv = GridSearchCV(logreg,grid,cv = 5)\n",
    "logreg_cv.fit(vartrain,y_train)\n",
    "\n",
    "print(\"Tuned hyperparameters :(best parameters) \",logreg_cv.best_params_)\n",
    "print(\"Accuracy :\",logreg_cv.best_score_)"
   ]
  },
  {
   "cell_type": "code",
   "execution_count": null,
   "id": "8114ad6d",
   "metadata": {},
   "outputs": [],
   "source": [
    "#Code Block 104\n",
    "\n",
    "vartrain = X_train_sc\n",
    "vartest = X_test_sc\n",
    "\n",
    "#Set the model properties\n",
    "model = LogisticRegression(random_state = 1, C = 0.1, class_weight = None, penalty = 'l1', solver = 'saga')\n",
    "\n",
    "shorttraintest(vartrain, vartest, y_train, y_test, model)\n",
    "#run the model"
   ]
  },
  {
   "cell_type": "code",
   "execution_count": null,
   "id": "13f75dc2",
   "metadata": {},
   "outputs": [],
   "source": [
    "#Code Block 105\n",
    "\n",
    "vartrain = X_train_sc\n",
    "vartest = X_test_sc\n",
    "\n",
    "#Set the model properties\n",
    "model = LogisticRegression(random_state = 1, C = 1, class_weight = None,penalty = 'l1', solver = 'saga')\n",
    "\n",
    "shorttraintest(vartrain, vartest, y_train, y_test, model)\n",
    "#run the model"
   ]
  },
  {
   "cell_type": "code",
   "execution_count": null,
   "id": "6abccf9e",
   "metadata": {
    "scrolled": false
   },
   "outputs": [],
   "source": [
    "#Code Block 106\n",
    "\n",
    "#decision model\n",
    "# seeing how the different settings for class weight effect the recall and precision score with c = 10\n",
    "cw = [None, 'balanced', {0:1, 1:1.5}, {0:1, 1:2}, {0:1, 1:2.5}, {0:1, 1:3}, {0:1, 1:3.5}, {0:1, 1:4}, \n",
    "      {0:1, 1:4.5},{0:1, 1:5}, {0:1, 1:5.5},{0:1, 1:10}, {0:1, 1:100}]\n",
    "\n",
    "vartrain = X_train_sc\n",
    "vartest = X_test_sc\n",
    "\n",
    "for w in cw:\n",
    "    print('----------------------')\n",
    "    vartitle = \"Model with Class Weight: \" + str(w)\n",
    "    varcw = w\n",
    "    model = LogisticRegression(random_state = 1, C = 1, class_weight=varcw,\n",
    "                              penalty = 'l1', solver = 'saga')\n",
    "    print(vartitle)\n",
    "    print('')\n",
    "    shorttraintest(vartrain, vartest, y_train, y_test, model)\n",
    "    print('----------------------')"
   ]
  },
  {
   "cell_type": "code",
   "execution_count": null,
   "id": "7785ea2c",
   "metadata": {},
   "outputs": [],
   "source": [
    "#Code Block 107\n",
    "\n",
    "vartrain = X_train_sc\n",
    "vartest = X_test_sc\n",
    "\n",
    "#Set the model properties\n",
    "model = LogisticRegression(random_state = 1, C = 5, class_weight ={0:1, 1:1.5}, penalty = 'l1', solver = 'saga')\n",
    "\n",
    "shorttraintest(vartrain, vartest, y_train, y_test, model)\n",
    "#run the model"
   ]
  },
  {
   "cell_type": "code",
   "execution_count": null,
   "id": "2bf86eb2",
   "metadata": {},
   "outputs": [],
   "source": [
    "#Code Block 108\n",
    "\n",
    "vartrain = X_train_sc\n",
    "vartest = X_test_sc\n",
    "\n",
    "#Set the model properties\n",
    "model = LogisticRegression(random_state = 1, C = 0.1, class_weight ={0:1, 1:1.5}, penalty = 'l1', solver = 'saga')\n",
    "\n",
    "shorttraintest(vartrain, vartest, y_train, y_test, model)\n",
    "#run the model"
   ]
  },
  {
   "cell_type": "code",
   "execution_count": null,
   "id": "946fa06e",
   "metadata": {},
   "outputs": [],
   "source": [
    "#Code Block 109\n",
    "\n",
    "vartrain = X_train_sc\n",
    "vartest = X_test_sc\n",
    "\n",
    "#Set the model properties\n",
    "model = LogisticRegression(random_state = 1, C = 0.1, class_weight =None, penalty = 'l1', solver = 'liblinear')\n",
    "\n",
    "shorttraintest(vartrain, vartest, y_train, y_test, model)\n",
    "#run the model"
   ]
  },
  {
   "cell_type": "code",
   "execution_count": null,
   "id": "e371ad38",
   "metadata": {},
   "outputs": [],
   "source": [
    "#Code Block 110\n",
    "\n",
    "model_pred = model.predict(vartest)\n",
    "cm_dt_dec = pd.DataFrame(confusion_matrix(y_test, model_pred))\n",
    "#crete a confusion matrix dataframe for decision model\n",
    "cm_dt_dec\n"
   ]
  },
  {
   "cell_type": "code",
   "execution_count": null,
   "id": "1cc7762a",
   "metadata": {},
   "outputs": [],
   "source": [
    "#Code Block 111\n",
    "\n",
    "vartrain = X_train_sc\n",
    "vartest = X_test_sc\n",
    "\n",
    "model = LogisticRegression(random_state = 1, C = 0.1, class_weight= None)\n",
    "model.fit(vartrain, y_train)\n",
    "\n",
    "model_pred = model.predict(vartest)\n",
    "\n",
    "cm_dt_opt = pd.DataFrame(confusion_matrix(y_test, model_pred))\n",
    "#crete a confusion matrix dataframe for optimal model"
   ]
  },
  {
   "cell_type": "code",
   "execution_count": null,
   "id": "fb03818b",
   "metadata": {},
   "outputs": [],
   "source": [
    "#Code Block 112\n",
    "\n",
    "plt.figure(figsize=(20,6))\n",
    "\n",
    "plt.subplot(121)\n",
    "plt.title('Confusion Matrix for Logistic Regression for Decision Model-class weight = {1:2}', fontweight='bold', color = 'black', fontsize='12', horizontalalignment='center')\n",
    "chart = sns.heatmap(cm_dt_dec, annot=True, cmap=\"Greens\", annot_kws={\"size\": 16}, fmt=\"g\")\n",
    "chart.set_xlabel('Predicted', fontsize=15)\n",
    "chart.set_ylabel('True', fontsize=15)\n",
    "chart.xaxis.set_ticklabels([\"Survived\", \"Dead\"], fontsize=12)\n",
    "chart.yaxis.set_ticklabels([\"Survived\", \"Dead\"], fontsize=12, va='center')\n",
    "\n",
    "plt.subplot(122)\n",
    "plt.title('Confusion Matrix for Logistic Regression for Optimal Model-class weight = None', fontweight='bold', color = 'black', fontsize='12', horizontalalignment='center')\n",
    "chart = sns.heatmap(cm_dt_opt, annot=True, cmap=\"Blues\", annot_kws={\"size\": 16}, fmt=\"g\")\n",
    "chart.set_xlabel('Predicted', fontsize=15)\n",
    "chart.set_ylabel('True', fontsize=15)\n",
    "chart.xaxis.set_ticklabels([\"Survived\", \"Dead\"], fontsize=12)\n",
    "chart.yaxis.set_ticklabels([\"Survived\", \"Dead\"], fontsize=12, va='center')\n"
   ]
  },
  {
   "cell_type": "code",
   "execution_count": null,
   "id": "cd8c7f91",
   "metadata": {},
   "outputs": [],
   "source": [
    "plt.figure(figsize=(20,6))\n",
    "plt.title('Confusion Matrix for Logistic Regression for Decision Model-class weight = {1:2}', fontweight='bold', color = 'black', fontsize='12', horizontalalignment='center')\n",
    "chart = sns.heatmap(cm_dt_dec, annot=True, cmap=\"Greens\", annot_kws={\"size\": 16}, fmt=\"g\")\n",
    "chart.set_xlabel('Predicted', fontsize=15)\n",
    "chart.set_ylabel('True', fontsize=15)\n",
    "chart.xaxis.set_ticklabels([\"Survived\", \"Dead\"], fontsize=12)\n",
    "chart.yaxis.set_ticklabels([\"Survived\", \"Dead\"], fontsize=12, va='center')\n"
   ]
  },
  {
   "cell_type": "code",
   "execution_count": null,
   "id": "86c14694",
   "metadata": {},
   "outputs": [],
   "source": [
    "#Code Block 113\n",
    "\n",
    "importances = pd.DataFrame(data={\n",
    "    'Attribute': X_train.columns,\n",
    "    'Importance': model.coef_[0]\n",
    "})\n",
    "#create a dataframe for feature importances \n",
    "importances = importances.sort_values(by='Importance', ascending=False)"
   ]
  },
  {
   "cell_type": "code",
   "execution_count": null,
   "id": "38e6a6c2",
   "metadata": {},
   "outputs": [],
   "source": [
    "#Code Block 114\n",
    "\n",
    "plt.bar(x=importances['Attribute'], height=importances['Importance'], color='#087E8B')\n",
    "plt.title('Feature importances as Logistic Regression Coefficients', size=12)\n",
    "plt.xticks(rotation='vertical')\n",
    "plt.show()\n"
   ]
  },
  {
   "cell_type": "markdown",
   "id": "c176c259",
   "metadata": {},
   "source": [
    "- Explanation: the larger the coefficient is (in both positive and negative direction), the more influence it has on a prediction."
   ]
  },
  {
   "cell_type": "markdown",
   "id": "eb4d4aa8",
   "metadata": {},
   "source": [
    "### Explanation for Final Logistic Regression Model:\n",
    "- Among all paramters, I chose the last one with C=0.1, class_weight =None, penalty = 'l1', solver = 'liblinear', as it gives us better accuracy and recall scores. \n",
    "- From the confusion matrix, with this model we predict 18 times correctly for dead and just 8 times wrong out of all 26 deaths while the model predicts 57 times right and 7 times wrong among 64 survived. \n",
    "- Logistic regression model ended up with accuracy score of 0.833 and recall score of 0.6923. "
   ]
  },
  {
   "cell_type": "markdown",
   "id": "2a6a1e1f",
   "metadata": {},
   "source": [
    "## Building Classification Models"
   ]
  },
  {
   "cell_type": "markdown",
   "id": "e9423348",
   "metadata": {},
   "source": [
    "### Rndom Forests Model"
   ]
  },
  {
   "cell_type": "code",
   "execution_count": null,
   "id": "3bf76abf",
   "metadata": {},
   "outputs": [],
   "source": [
    "#Code Block 115\n",
    "\n",
    "from sklearn.ensemble import RandomForestClassifier\n",
    "from sklearn.metrics import accuracy_score\n",
    "\n",
    "from sklearn.metrics import confusion_matrix, classification_report\n",
    "from sklearn.metrics import precision_score, recall_score\n",
    "from sklearn.metrics import plot_confusion_matrix\n",
    "from sklearn.metrics import roc_curve, roc_auc_score\n",
    "from sklearn.model_selection import cross_val_score\n",
    "#Import functions fopr Decision Tree "
   ]
  },
  {
   "cell_type": "markdown",
   "id": "1790ec40",
   "metadata": {},
   "source": [
    "### Create a Defined Function for building a model"
   ]
  },
  {
   "cell_type": "code",
   "execution_count": null,
   "id": "235b0b29",
   "metadata": {},
   "outputs": [],
   "source": [
    "#Code Block 116\n",
    "\n",
    "def modeltraintest(vartrain, vartest, y_train, y_test, model):\n",
    "\n",
    "    #1) Set the properties for the model (model) - by setting vartrain, vartest, and model\n",
    "    \n",
    "    #2) Fit the model with training data\n",
    "    model.fit(vartrain, y_train)\n",
    "\n",
    "    #3) Predict the target variable with test data\n",
    "    model_pred = model.predict(vartest)\n",
    "    model_prob = model.predict_proba(vartest)\n",
    "\n",
    "    #4) Assess the accuracy with the test data\n",
    "    score = model.score(vartest, y_test)\n",
    "\n",
    "    print('XXXXXXXXXXXXXXXX ACCURACY SCORE XXXXXXXXXXXXXXXXXX')\n",
    "    print(round(score, 6))\n",
    "    print(\"\")\n",
    "\n",
    "\n",
    "    print('XXXXXXXXXXXXXXXX CONFUSION MATRIX XXXXXXXXXXXXXXXX')\n",
    "    print(confusion_matrix(y_test, model_pred))\n",
    "    print(\"\")\n",
    "\n",
    "\n",
    "    print('XXXXXXXXXXXXXX CLASSIFICATION REPORT XXXXXXXXXXXXXX')\n",
    "    print(classification_report(y_test, model_pred))\n",
    "    print('')\n",
    "\n",
    "\n",
    "    print('XXXXXXXXXXXXXX ROC AUC SCORE AND CHART XXXXXXXXXXXXXXXXXX')\n",
    "    print('')\n",
    "    y_pred_prob = model.predict_proba(vartest)[:,1]\n",
    "\n",
    "    fpr, tpr, thresholds = roc_curve(y_test, y_pred_prob)\n",
    "\n",
    "    plt.plot([0, 1], [0, 1],'k--')\n",
    "    plt.plot(fpr, tpr, label='Classification Model')\n",
    "    plt.xlabel('False Positive Rate')\n",
    "    plt.ylabel('True Positive Rate')\n",
    "    plt.title('ROC Curve')\n",
    "    plt.show();\n",
    "\n",
    "    # calculate roc curve\n",
    "    y_pred_prob = model.predict_proba(vartest)[:,1]\n",
    "    fpr, tpr, thresholds = roc_curve(y_test, y_pred_prob)\n",
    "    roc_auc = roc_auc_score(y_test, y_pred_prob)\n",
    "    roc_auc_format = 'ROC AUC Score: {0:.4f}'.format(roc_auc)\n",
    "    print(roc_auc_format)\n",
    "    print('')\n",
    "\n",
    "\n",
    "    print('XXXXXXXXXXXXXX CROSS VALIDATION XXXXXXXXXXXXXXXXXX')\n",
    "    print('')\n",
    "    cv_scores = cross_val_score(model, vartrain, y_train, cv=5,\n",
    "    scoring='accuracy')\n",
    "    print('CV Accuracy Scores:')\n",
    "    print(cv_scores)\n",
    "    print('')\n",
    "    cv_rocauc = cross_val_score(model, vartrain, y_train, cv=5,\n",
    "    scoring='roc_auc')\n",
    "    print('CV ROC AUC:')\n",
    "    print(cv_rocauc)\n",
    "\n",
    "    print('')\n",
    "    print('XXXXXXXXXXXXXXXXXXXXXXXXXXXXXXXXXXXXXXXXXXXXXXXXXX')"
   ]
  },
  {
   "cell_type": "markdown",
   "id": "f47dca10",
   "metadata": {},
   "source": [
    "### Create a short version of the modeling results"
   ]
  },
  {
   "cell_type": "code",
   "execution_count": null,
   "id": "c133be70",
   "metadata": {},
   "outputs": [],
   "source": [
    "#Code Block 117\n",
    "\n",
    "def shorttraintest(vartrain, vartest, y_train, y_test, model):\n",
    "\n",
    "    #Fit the model\n",
    "    model.fit(vartrain, y_train)\n",
    "\n",
    "    #Predict with the model\n",
    "    model_pred = model.predict(vartest)\n",
    "    model_prob = model.predict_proba(vartest)\n",
    "\n",
    "\n",
    "    print('Confusion Matrix:')\n",
    "    print(confusion_matrix(y_test, model_pred))\n",
    "    print(\"\")\n",
    "\n",
    "    #Assess with the model\n",
    "    score = model.score(vartest, y_test)\n",
    "    score_format = 'Accuracy Score: {0:.4f}'.format(score)\n",
    "    print(score_format)\n",
    "\n",
    "    recall = recall_score(y_test, model_pred)\n",
    "    recall_format = 'Recall Score: {0:.4f}'.format(recall)\n",
    "    print(recall_format)\n",
    "    \n",
    "    precision = precision_score(y_test, model_pred)\n",
    "    precision_format = 'Precision Score: {0:.4f}'.format(precision)\n",
    "    print(precision_format)\n",
    "    \n",
    "    # calculate roc curve\n",
    "    y_pred_prob = model.predict_proba(vartest)[:,1]\n",
    "    fpr, tpr, thresholds = roc_curve(y_test, y_pred_prob)\n",
    "    roc_auc = roc_auc_score(y_test, y_pred_prob)\n",
    "    roc_auc_format = 'ROC AUC Score: {0:.4f}'.format(roc_auc)\n",
    "    print(roc_auc_format)\n",
    "    print('')"
   ]
  },
  {
   "cell_type": "code",
   "execution_count": null,
   "id": "7f9e4f92",
   "metadata": {},
   "outputs": [],
   "source": [
    "#Code Block 118\n",
    "\n",
    "X = heart.drop(['DEATH_EVENT'], axis = 1)\n",
    "y = heart['DEATH_EVENT']\n",
    "y.value_counts()\n"
   ]
  },
  {
   "cell_type": "code",
   "execution_count": null,
   "id": "7ed6260e",
   "metadata": {},
   "outputs": [],
   "source": [
    "#Code Block 119\n",
    "\n",
    "X_train, X_test, y_train, y_test = train_test_split(X, y, test_size = 0.3, random_state = 1)\n",
    "#split X and y datasets"
   ]
  },
  {
   "cell_type": "markdown",
   "id": "5875efdb",
   "metadata": {},
   "source": [
    "### Run a Random Forest Classifier with default parameters"
   ]
  },
  {
   "cell_type": "code",
   "execution_count": null,
   "id": "fa6490e7",
   "metadata": {},
   "outputs": [],
   "source": [
    "#Code Block 120\n",
    "\n",
    "vartrain = X_train\n",
    "vartest = X_test\n",
    "model = RandomForestClassifier(random_state=1)\n",
    "\n",
    "modeltraintest(vartrain, vartest, y_train, y_test, model)"
   ]
  },
  {
   "cell_type": "code",
   "execution_count": null,
   "id": "1511d619",
   "metadata": {},
   "outputs": [],
   "source": [
    "#Code Block 121\n",
    "\n",
    "vartrain = X_train\n",
    "vartest = X_test\n",
    "model = RandomForestClassifier(random_state=1)\n",
    "\n",
    "shorttraintest(vartrain, vartest, y_train, y_test, model)"
   ]
  },
  {
   "cell_type": "markdown",
   "id": "22f93579",
   "metadata": {},
   "source": [
    "### Fine-tune the model to find the OPTIMAL model\n",
    "### Manually Setting the Properties for Random Forest"
   ]
  },
  {
   "cell_type": "code",
   "execution_count": null,
   "id": "e41a8cf0",
   "metadata": {},
   "outputs": [],
   "source": [
    "#Code Block 122\n",
    "\n",
    "#depth = range(6,25)\n",
    "\n",
    "#Chose to use a list instead of a rnage\n",
    "depth = [2, 4, 5, 6, 8, 10, 12, 14, 16, 17, 18, 19, 20, 21, 22, 23, 30]\n",
    "\n",
    "#Creates an empty list\n",
    "scores = []\n",
    "\n",
    "for d in depth:\n",
    "    classifier = RandomForestClassifier(max_depth = d, random_state = 1)\n",
    "    classifier = classifier.fit(X_train,y_train)\n",
    "    score = classifier.score(X_test, y_test)\n",
    "    scores.append(classifier.score(X_test, y_test))\n",
    "    print(\"iteration {} done. Accuracy = \".format(d) + str(score))\n",
    "\n",
    "\n",
    "plt.plot(depth, scores, '-o')\n",
    "plt.xlabel('depth, d')\n",
    "plt.ylabel('scores')\n",
    "plt.xticks(depth)\n",
    "plt.show()"
   ]
  },
  {
   "cell_type": "code",
   "execution_count": null,
   "id": "d859c4ca",
   "metadata": {},
   "outputs": [],
   "source": [
    "#Code Block 123\n",
    "\n",
    "#depth = range(6,25)\n",
    "\n",
    "#Chose to use a list instead of a rnage\n",
    "depth = [30, 50, 70, 90, 120,150, 200, 500]\n",
    "\n",
    "#Creates an empty list\n",
    "scores = []\n",
    "\n",
    "for d in depth:\n",
    "    classifier = RandomForestClassifier(max_depth = d, random_state = 1)\n",
    "    classifier = classifier.fit(X_train,y_train)\n",
    "    score = classifier.score(X_test, y_test)\n",
    "    scores.append(classifier.score(X_test, y_test))\n",
    "    print(\"iteration {} done. Accuracy = \".format(d) + str(score))\n",
    "\n",
    "\n",
    "plt.plot(depth, scores, '-o')\n",
    "plt.xlabel('depth, d')\n",
    "plt.ylabel('scores')\n",
    "plt.xticks(depth)\n",
    "plt.show()"
   ]
  },
  {
   "cell_type": "markdown",
   "id": "1b0a8463",
   "metadata": {},
   "source": [
    "#### Max_depth of 4, 5, 6, and 8 have the highest accuracy score. We select Max_depth of 6 for now "
   ]
  },
  {
   "cell_type": "code",
   "execution_count": null,
   "id": "959713d8",
   "metadata": {},
   "outputs": [],
   "source": [
    "#Code Block 124\n",
    "\n",
    "vartrain = X_train\n",
    "vartest = X_test\n",
    "model = RandomForestClassifier(max_depth = 6, random_state=1)\n",
    "\n",
    "shorttraintest(vartrain, vartest, y_train, y_test, model)"
   ]
  },
  {
   "cell_type": "markdown",
   "id": "1dce8829",
   "metadata": {},
   "source": [
    "### Manually set Max Features\n"
   ]
  },
  {
   "cell_type": "code",
   "execution_count": null,
   "id": "8ccc3312",
   "metadata": {},
   "outputs": [],
   "source": [
    "#Code Block 125\n",
    "\n",
    "\n",
    "figsize=(20, 5)\n",
    "maxf = range(1,13)\n",
    "scores = []\n",
    "\n",
    "for d in maxf:\n",
    "    classifier=RandomForestClassifier(max_depth = 6, max_features = d, random_state=1)\n",
    "    classifier=classifier.fit(X_train,y_train)\n",
    "    score = classifier.score(X_test, y_test)\n",
    "    scores.append(classifier.score(X_test, y_test))\n",
    "    print(\"iteration {} done. Accuracy = \".format(d) + str(score))\n",
    "\n",
    "\n",
    "plt.plot(maxf, scores, '-o')\n",
    "plt.xlabel('maxf, d')\n",
    "plt.ylabel('scores')\n",
    "plt.xticks(maxf)\n",
    "plt.show()"
   ]
  },
  {
   "cell_type": "markdown",
   "id": "85ddf058",
   "metadata": {},
   "source": [
    "### Select max_features = 2 as with this the accuracy score is the highest. It's possible to choose less max_features if the accuracy score is minimal difference."
   ]
  },
  {
   "cell_type": "code",
   "execution_count": null,
   "id": "129847d2",
   "metadata": {},
   "outputs": [],
   "source": [
    "#Code Block 126\n",
    "\n",
    "figsize=(20, 5)\n",
    "est = [1, 20, 50, 100, 150, 500,700, 1000]\n",
    "scores = []\n",
    "\n",
    "for d in est:\n",
    "    classifier=RandomForestClassifier(max_depth = 6, max_features = 3, n_estimators = d, random_state=1)\n",
    "    classifier=classifier.fit(X_train,y_train)\n",
    "    score = classifier.score(X_test, y_test)\n",
    "    scores.append(classifier.score(X_test, y_test))\n",
    "    print(\"iteration {} done. Accuracy = \".format(d) + str(score))\n",
    "#Manually set n_estimator\n",
    "\n",
    "plt.plot(est, scores, '-o')\n",
    "plt.xlabel('est, d')\n",
    "plt.ylabel('scores')\n",
    "plt.xticks(est)\n",
    "plt.show()"
   ]
  },
  {
   "cell_type": "markdown",
   "id": "ea9485eb",
   "metadata": {},
   "source": [
    "### Random Forest with n_estimators = 50"
   ]
  },
  {
   "cell_type": "code",
   "execution_count": null,
   "id": "48aa4300",
   "metadata": {},
   "outputs": [],
   "source": [
    "#Code Block 127\n",
    "\n",
    "vartrain = X_train\n",
    "vartest = X_test\n",
    "model = RandomForestClassifier(max_depth = 6, max_features = 3, n_estimators = 50, random_state=1)\n",
    "\n",
    "shorttraintest(vartrain, vartest, y_train, y_test, model)"
   ]
  },
  {
   "cell_type": "markdown",
   "id": "08338b55",
   "metadata": {},
   "source": [
    "### Random Forest with n_estimators = 100"
   ]
  },
  {
   "cell_type": "code",
   "execution_count": null,
   "id": "b77e3b57",
   "metadata": {},
   "outputs": [],
   "source": [
    "#Code Block 128\n",
    "\n",
    "vartrain = X_train\n",
    "vartest = X_test\n",
    "model = RandomForestClassifier(max_depth = 6, max_features = 3, n_estimators = 100, random_state=1)\n",
    "shorttraintest(vartrain, vartest, y_train, y_test, model)"
   ]
  },
  {
   "cell_type": "markdown",
   "id": "425129d8",
   "metadata": {},
   "source": [
    "#### n_stimatores of 100  has the higher accuracy score than the 100. "
   ]
  },
  {
   "cell_type": "markdown",
   "id": "04830889",
   "metadata": {},
   "source": [
    "### Run Optimal Model with class_weight = None"
   ]
  },
  {
   "cell_type": "code",
   "execution_count": null,
   "id": "7193709b",
   "metadata": {},
   "outputs": [],
   "source": [
    "#Code Block 129\n",
    "\n",
    "vartrain = X_train\n",
    "vartest = X_test\n",
    "model = RandomForestClassifier(max_depth = 6, max_features = 3, n_estimators = 100, random_state=1, class_weight = None)\n",
    "\n",
    "shorttraintest(vartrain, vartest, y_train, y_test, model)"
   ]
  },
  {
   "cell_type": "markdown",
   "id": "595873ae",
   "metadata": {},
   "source": [
    "### Use a For Loop to determine the optimal class_weight"
   ]
  },
  {
   "cell_type": "code",
   "execution_count": null,
   "id": "ec30c939",
   "metadata": {
    "scrolled": false
   },
   "outputs": [],
   "source": [
    "#Code Block 130\n",
    "\n",
    "cw = [None, 'balanced', {0:1, 1:2}, {0:1, 1:2.5}, {0:1, 1:3}, {0:1, 1:3.5}, {0:1, 1:4},\n",
    "      {0:1, 1:4.5},{0:1, 1:5}, {0:1, 1:5.5}, {0:1, 1:6}, {0:1, 1:10}, \n",
    "      {0:1, 1:20}, {0:1, 1:25}, {0:1, 1:30}, {0:1, 1:50}, {0:1, 1:100}]\n",
    "\n",
    "vartrain = X_train\n",
    "vartest = X_test\n",
    "\n",
    "for w in cw:\n",
    "    print('----------------------')\n",
    "    vartitle = \"Model with Class Weight: \" + str(w) \n",
    "    varcw = w\n",
    "    model = RandomForestClassifier(max_depth = 6, max_features = 3, n_estimators = 100,random_state=1,\n",
    "                                   class_weight=varcw)\n",
    "    print(vartitle)\n",
    "    print('')\n",
    "    shorttraintest(vartrain, vartest, y_train, y_test, model)\n",
    "\n",
    "\n",
    "          \n",
    "print('----------------------')\n",
    "\n"
   ]
  },
  {
   "cell_type": "code",
   "execution_count": null,
   "id": "456d24e4",
   "metadata": {},
   "outputs": [],
   "source": [
    "#Code Block 131\n",
    "\n",
    "vartrain = X_train\n",
    "vartest = X_test\n",
    "model = RandomForestClassifier(max_depth = 6, max_features = 3, n_estimators = 100, class_weight = {0: 1, 1: 5})\n",
    "\n",
    "modeltraintest(vartrain, vartest, y_train, y_test, model)"
   ]
  },
  {
   "cell_type": "markdown",
   "id": "359be440",
   "metadata": {},
   "source": [
    "### Random Search for Random Forest"
   ]
  },
  {
   "cell_type": "code",
   "execution_count": null,
   "id": "cf68a12c",
   "metadata": {},
   "outputs": [],
   "source": [
    "#Code Block 132\n",
    "\n",
    "from sklearn.model_selection import RandomizedSearchCV\n",
    "from sklearn.model_selection import GridSearchCV\n"
   ]
  },
  {
   "cell_type": "code",
   "execution_count": null,
   "id": "bb78ee0a",
   "metadata": {},
   "outputs": [],
   "source": [
    "#Code Block 133\n",
    "\n",
    "vartrain = X_train\n",
    "vartest = X_test\n",
    "\n",
    "grid={\"criterion\": ['gini', 'entropy'], \"max_depth\" : [4, 5, 6],\n",
    "      \"n_estimators\" : [20, 50, 100], \"max_features\" : [2, 3, 4],\n",
    "      \"class_weight\": [None],\n",
    "      \"bootstrap\": [True, False],\n",
    "      \"min_samples_split\": [2, 5, 10]}\n",
    "model_random = RandomForestClassifier(random_state = 1)\n",
    "model_cv = RandomizedSearchCV(model_random,grid,cv = 5)\n",
    "model_cv.fit(vartrain,y_train)\n",
    "\n",
    "print(\"tuned hyperparameters :(best parameters) \",model_cv.best_params_)\n",
    "print(\"accuracy :\", model_cv.best_score_)"
   ]
  },
  {
   "cell_type": "markdown",
   "id": "ae778528",
   "metadata": {},
   "source": [
    "### Grid Search for Random Forest"
   ]
  },
  {
   "cell_type": "code",
   "execution_count": null,
   "id": "a6ec9097",
   "metadata": {},
   "outputs": [],
   "source": [
    "#Code Block 134\n",
    "\n",
    "vartrain = X_train\n",
    "vartest = X_test\n",
    "\n",
    "grid={\"criterion\": ['gini', 'entropy'], \"max_depth\" : [4, 5, 6],\n",
    "      \"n_estimators\" : [20, 50, 100], \"max_features\" : [2, 3, 4],\n",
    "      \"class_weight\": [None],\n",
    "      \"bootstrap\": [True, False],\n",
    "      \"min_samples_split\": [2, 5, 10]}\n",
    "model_grid = RandomForestClassifier(random_state = 1, n_jobs = -2)\n",
    "model_cv = GridSearchCV(model_grid,grid,cv = 5)\n",
    "model_cv.fit(vartrain,y_train)\n",
    "\n",
    "print(\"tuned hyperparameters :(best parameters) \",model_cv.best_params_)\n",
    "print(\"accuracy :\",model_cv.best_score_)"
   ]
  },
  {
   "cell_type": "raw",
   "id": "c89d2e98",
   "metadata": {},
   "source": [
    "vartrain = X_train\n",
    "vartest = X_test\n",
    "\n",
    "\n",
    "for i in np.arange(0,5):\n",
    "    model_grid = RandomForestClassifier(random_state = i, n_jobs = -2)\n",
    "    grid = {\"criterion\": ['gini', 'entropy'], \"max_depth\" : [4, 5, 6, 7, 8],\n",
    "            \"n_estimators\" : [20, 50, 100], \"max_features\" : [2, 3, 5,6],\n",
    "            \"class_weight\": [None],\n",
    "            \"bootstrap\": [True, False],\n",
    "            \"min_samples_split\": [2, 5, 10]}\n",
    "\n",
    "    model_cv = GridSearchCV(model_grid,grid,cv = 5)\n",
    "    model_cv.fit(vartrain,y_train)\n",
    "\n",
    "    print(\"tuned hyperparameters :(best parameters) \",model_cv.best_params_)\n",
    "    print(\"accuracy :\",model_cv.best_score_)"
   ]
  },
  {
   "cell_type": "code",
   "execution_count": null,
   "id": "63ca80ef",
   "metadata": {},
   "outputs": [],
   "source": [
    "\n",
    "#Code Block 135\n",
    "\n",
    "#Set the X training and test datasets\n",
    "vartrain = X_train\n",
    "vartest = X_test\n",
    "\n",
    "#Set the model properties\n",
    "model = RandomForestClassifier(max_depth = 4, max_features = 3, n_estimators = 100,\n",
    "                               class_weight = None, criterion = 'entropy', random_state = 1,\n",
    "                               bootstrap = False, min_samples_split = 10)\n",
    "shorttraintest(vartrain, vartest, y_train, y_test, model)"
   ]
  },
  {
   "cell_type": "code",
   "execution_count": null,
   "id": "ef04d4c1",
   "metadata": {},
   "outputs": [],
   "source": [
    "#Code Block 136\n",
    "\n",
    "#Set the X training and test datasets\n",
    "vartrain = X_train\n",
    "vartest = X_test\n",
    "\n",
    "#Set the model properties\n",
    "model = RandomForestClassifier(max_depth = 4, max_features = 3, n_estimators = 100,\n",
    "                               class_weight = None, criterion = 'entropy', random_state = 1,\n",
    "                               bootstrap = True, min_samples_split = 10)\n",
    "shorttraintest(vartrain, vartest, y_train, y_test, model)"
   ]
  },
  {
   "cell_type": "code",
   "execution_count": null,
   "id": "b13ca6cb",
   "metadata": {
    "scrolled": false
   },
   "outputs": [],
   "source": [
    "#Code Block 137\n",
    "\n",
    "cw = [None, 'balanced', {0:1, 1:2}, {0:1, 1:2.5}, {0:1, 1:3}, {0:1, 1:3.5}, {0:1, 1:4}, {0:1, 1:4.5},\n",
    "      {0:1, 1:5},{0:1, 1:5.5}, {0:1, 1:6},{0:1, 1:6.5}, {0:1, 1:7}, {0:1, 1:7.5},{0:1, 1:8}, {0:1, 1:8.5}, \n",
    "      {0:1, 1:9},{0:1, 1:10}, {0:1, 1:11},{0:1, 1:12},{0:1, 1:13}]\n",
    "    \n",
    "vartrain = X_train\n",
    "vartest = X_test\n",
    "\n",
    "for w in cw:\n",
    "    print('----------------------')\n",
    "    vartitle = \"Model with Class Weight: \" + str(w) \n",
    "    varcw = w\n",
    "    #Set the model properties\n",
    "    model = RandomForestClassifier(max_depth = 4, max_features = 3, n_estimators =100, \n",
    "                                   class_weight = varcw, criterion = 'gini', random_state=1,\n",
    "                                   bootstrap = True, min_samples_split = 5)\n",
    "    print(vartitle)\n",
    "    print('')\n",
    "    shorttraintest(vartrain, vartest, y_train, y_test, model)\n",
    "\n",
    "#run the model with the best parameters for different class_weights\n",
    "          \n",
    "print('----------------------')\n"
   ]
  },
  {
   "cell_type": "code",
   "execution_count": null,
   "id": "ba8a8930",
   "metadata": {},
   "outputs": [],
   "source": [
    "#Code Block 138\n",
    "\n",
    "#Set the X training and test datasets\n",
    "vartrain = X_train\n",
    "vartest = X_test\n",
    "\n",
    "#Set the model properties\n",
    "model = RandomForestClassifier(max_depth = 4, max_features = 3, n_estimators =100, \n",
    "                               class_weight = None, criterion = 'gini', random_state=1,\n",
    "                               bootstrap = True, min_samples_split = 5)\n",
    "\n",
    "shorttraintest(vartrain, vartest, y_train, y_test, model)"
   ]
  },
  {
   "cell_type": "markdown",
   "id": "ba30604f",
   "metadata": {},
   "source": [
    "- We want to have higher recall score then we sacrifice a little of accuracy to achieve that. We go back up to look at the different cws to find a good accuracy and recall scores. "
   ]
  },
  {
   "cell_type": "code",
   "execution_count": null,
   "id": "3996b11c",
   "metadata": {},
   "outputs": [],
   "source": [
    "#Code Block 139\n",
    "\n",
    "#Set the X training and test datasets\n",
    "vartrain = X_train\n",
    "vartest = X_test\n",
    "\n",
    "#Set the model properties\n",
    "model = RandomForestClassifier(max_depth = 6, max_features = 3, n_estimators = 100,\n",
    "                               class_weight = {0: 1, 1: 5}, criterion = 'gini', random_state = 1)\n",
    "                              \n",
    "                              \n",
    "                               \n",
    "shorttraintest(vartrain, vartest, y_train, y_test, model)"
   ]
  },
  {
   "cell_type": "code",
   "execution_count": null,
   "id": "f61b6824",
   "metadata": {},
   "outputs": [],
   "source": [
    "#Code Block 140\n",
    "\n",
    "#Set the X training and test datasets\n",
    "vartrain = X_train\n",
    "vartest = X_test\n",
    "\n",
    "#Set the model properties\n",
    "model = RandomForestClassifier(max_depth = 6, max_features = 3, n_estimators = 100,\n",
    "                               class_weight = {0: 1, 1: 5}, criterion = 'gini', random_state = 1)\n",
    "                               \n",
    "modeltraintest(vartrain, vartest, y_train, y_test, model)"
   ]
  },
  {
   "cell_type": "code",
   "execution_count": null,
   "id": "250ef24b",
   "metadata": {},
   "outputs": [],
   "source": [
    "#Code Block 141\n",
    "\n",
    "vartrain = X_train_sc\n",
    "vartest = X_test_sc\n",
    "\n",
    "model = RandomForestClassifier(max_depth = 6, max_features = 3, n_estimators = 100,\n",
    "                               class_weight = {0: 1, 1: 5}, criterion = 'gini', random_state = 1)\n",
    "                               \n",
    "model.fit(vartrain, y_train)\n",
    "\n",
    "model_pred = model.predict(vartest)\n",
    "cm_dt_dec = pd.DataFrame(confusion_matrix(y_test, model_pred))"
   ]
  },
  {
   "cell_type": "code",
   "execution_count": null,
   "id": "a1bff45a",
   "metadata": {},
   "outputs": [],
   "source": [
    "#Code Block 142\n",
    "\n",
    "plt.title('Confusion Matrix for the Rndom Forest Classifier-class weight=1:5', fontweight='bold', color = 'black', fontsize='12', horizontalalignment='center')\n",
    "chart = sns.heatmap(cm_dt_dec, annot=True, cmap=\"Greens\", annot_kws={\"size\": 16}, fmt=\"g\")\n",
    "chart.set_xlabel('Predicted', fontsize=12)\n",
    "chart.set_ylabel('True', fontsize=15)\n",
    "chart.xaxis.set_ticklabels([\"Survived\", \"Dead\"], fontsize=12)\n",
    "chart.yaxis.set_ticklabels([\"Survived\", \"Dead\"], fontsize=12, va='center')\n",
    "\n"
   ]
  },
  {
   "cell_type": "code",
   "execution_count": null,
   "id": "0f2db18c",
   "metadata": {},
   "outputs": [],
   "source": [
    "#Code Block 143\n",
    "\n",
    "vartrain = X_train_sc\n",
    "vartest = X_test_sc\n",
    "\n",
    "model = RandomForestClassifier(max_depth = 4, max_features = 3, n_estimators = 100,\n",
    "                               class_weight = None, criterion = 'gini', random_state = 1,\n",
    "                               bootstrap = True, min_samples_split = 5)\n",
    "    \n",
    "model.fit(vartrain, y_train)\n",
    "\n",
    "model_pred = model.predict(vartest)\n",
    "cm_dt_opt = pd.DataFrame(confusion_matrix(y_test, model_pred))"
   ]
  },
  {
   "cell_type": "code",
   "execution_count": null,
   "id": "ebb228bb",
   "metadata": {},
   "outputs": [],
   "source": [
    "#Code Block 144\n",
    "\n",
    "plt.figure(figsize=(20,6))\n",
    "\n",
    "plt.subplot(121)\n",
    "\n",
    "plt.title('Confusion Matrix for Optimal Model in Random Forest Classifiermodel-class weight=None', fontweight='bold', color = 'black', fontsize='12', horizontalalignment='center')\n",
    "chart = sns.heatmap(cm_dt_opt, annot=True, cmap=\"Blues\", annot_kws={\"size\": 16}, fmt=\"g\")\n",
    "chart.set_xlabel('Predicted', fontsize=15)\n",
    "chart.set_ylabel('True', fontsize=15)\n",
    "chart.xaxis.set_ticklabels([\"Survived\", \"Dead\"], fontsize=12)\n",
    "chart.yaxis.set_ticklabels([\"Survived\", \"Dead\"], fontsize=12, va='center')\n",
    "\n",
    "\n",
    "plt.subplot(122)\n",
    "plt.title('Confusion Matrix for Decision model in Random Forest Classifier model-class weight=''{1:5}', fontweight='bold', color = 'black', fontsize='12', horizontalalignment='center')\n",
    "chart = sns.heatmap(cm_dt_dec, annot=True, cmap=\"Greens\", annot_kws={\"size\": 16}, fmt=\"g\")\n",
    "chart.set_xlabel('Predicted', fontsize=15)\n",
    "chart.set_ylabel('True', fontsize=15)\n",
    "chart.xaxis.set_ticklabels([\"Survived\", \"Dead\"], fontsize=12)\n",
    "chart.yaxis.set_ticklabels([\"Survived\", \"Dead\"], fontsize=12, va='center')"
   ]
  },
  {
   "cell_type": "markdown",
   "id": "49db4790",
   "metadata": {},
   "source": [
    "##### Explanation:\n",
    "- Our Decision Tree final model's parameters are max_depth = 6, max_features = 3, n_estimators = 100, class_weight = {0: 1, 1: 5}, criterion = 'gini', random_state = 1"
   ]
  },
  {
   "cell_type": "code",
   "execution_count": null,
   "id": "66a4abae",
   "metadata": {},
   "outputs": [],
   "source": [
    "#Code Block 145\n",
    "\n",
    "vartrain = X_train\n",
    "vartest = X_test\n",
    "\n",
    "#Set the model properties\n",
    "model = RandomForestClassifier(max_depth = 6, max_features = 3, n_estimators = 100,\n",
    "                               class_weight = {0: 1, 1: 5}, criterion = 'gini', random_state = 1)\n",
    "                               \n",
    "shorttraintest(vartrain, vartest, y_train, y_test, model)"
   ]
  },
  {
   "cell_type": "markdown",
   "id": "90e82e60",
   "metadata": {},
   "source": [
    "### Importance Levels of the Variables\n"
   ]
  },
  {
   "cell_type": "code",
   "execution_count": null,
   "id": "8ec1ac16",
   "metadata": {},
   "outputs": [],
   "source": [
    "#Code Block 146\n",
    "\n",
    "importance = pd.DataFrame({\"Importance\": model.feature_importances_ * 100},\n",
    "                         index = pd.DataFrame(X_train).columns)\n",
    "importance.sort_values(by = \"Importance\",\n",
    "                       axis = 0,\n",
    "                       ascending = True).plot(kind = \"bar\", color = \"green\")\n",
    "plt.title('Feature Importances in Random Forest Classifier')\n",
    "plt.xlabel(\"Importance levels of the variables\")\n",
    "plt.ylabel(\"Variables\")"
   ]
  },
  {
   "cell_type": "code",
   "execution_count": null,
   "id": "b48b7de0",
   "metadata": {},
   "outputs": [],
   "source": [
    "#Code Block 147\n",
    "\n",
    "plot_confusion_matrix(model,\n",
    "                      X_test,\n",
    "                      y_test,\n",
    "                      cmap = plt.cm.Reds,\n",
    "                      normalize='true');"
   ]
  },
  {
   "cell_type": "code",
   "execution_count": null,
   "id": "27e4705c",
   "metadata": {},
   "outputs": [],
   "source": [
    "#Code Block 148\n",
    "\n",
    "#Set the X training and test datasets\n",
    "vartrain = X_train\n",
    "vartest = X_test\n",
    "\n",
    "#Set the model properties\n",
    "model = RandomForestClassifier(max_depth = 6, max_features = 3, n_estimators = 100,\n",
    "                               class_weight = {0: 1, 1: 5}, criterion = 'gini', random_state = 1)\n",
    "modeltraintest(vartrain, vartest, y_train, y_test, model)"
   ]
  },
  {
   "cell_type": "markdown",
   "id": "d82fbbd4",
   "metadata": {},
   "source": [
    "### Explanation:\n",
    "- The final  Random Forest model's parameters is max_depth = 6, max_features = 3, n_estimators = 100,\n",
    "                               class_weight = {0: 1, 1: 5}, criterion = 'gini', random_state = 1.  "
   ]
  },
  {
   "cell_type": "markdown",
   "id": "3e2c7259",
   "metadata": {},
   "source": [
    "## Classification using Decision Tree Modeling"
   ]
  },
  {
   "cell_type": "markdown",
   "id": "4dd161a5",
   "metadata": {},
   "source": [
    "### Run the Decision Tree model with default parameters"
   ]
  },
  {
   "cell_type": "code",
   "execution_count": null,
   "id": "9e848a33",
   "metadata": {},
   "outputs": [],
   "source": [
    "#Code Block 149\n",
    "\n",
    "X_train, X_test, y_train, y_test = train_test_split(X, y, test_size = 0.3, random_state = 1)\n",
    "#split X and y datasets"
   ]
  },
  {
   "cell_type": "code",
   "execution_count": null,
   "id": "402f861c",
   "metadata": {},
   "outputs": [],
   "source": [
    "#Code Block 150\n",
    "\n",
    "vartrain = X_train\n",
    "vartest = X_test\n",
    "model = DecisionTreeClassifier(random_state=1)  \n",
    "\n",
    "modeltraintest(vartrain, vartest, y_train, y_test, model)"
   ]
  },
  {
   "cell_type": "code",
   "execution_count": null,
   "id": "aedc70e5",
   "metadata": {},
   "outputs": [],
   "source": [
    "#Code Block 151\n",
    "\n",
    "model = DecisionTreeClassifier(random_state=1)\n",
    "model.fit(X_train, y_train)\n",
    "\n",
    "model_pred = model.predict(X_test)\n",
    "\n",
    "score = model.score(X_test, y_test)\n",
    "print(score)\n",
    "print(\"\")\n",
    "print(confusion_matrix(y_test, model_pred))\n",
    "\n",
    "print(classification_report(y_test, model_pred))\n",
    "#run the model"
   ]
  },
  {
   "cell_type": "markdown",
   "id": "4298b5cd",
   "metadata": {},
   "source": [
    "### Visualize a Decision Tree"
   ]
  },
  {
   "cell_type": "code",
   "execution_count": null,
   "id": "89f5367c",
   "metadata": {},
   "outputs": [],
   "source": [
    "#Code Block 152\n",
    "\n",
    "model\n",
    "#show the model"
   ]
  },
  {
   "cell_type": "code",
   "execution_count": null,
   "id": "85079384",
   "metadata": {},
   "outputs": [],
   "source": [
    "#Code Block 153\n",
    "\n",
    "X_names=X_train.columns.values\n",
    "#create a list of the column names"
   ]
  },
  {
   "cell_type": "code",
   "execution_count": null,
   "id": "01a9a675",
   "metadata": {},
   "outputs": [],
   "source": [
    "#Code Block 154\n",
    "\n",
    "model = DecisionTreeClassifier(max_leaf_nodes=13, random_state = 1)\n",
    "model.fit(X_train, y_train)\n",
    "model_pred = model.predict(X_test)\n",
    "model"
   ]
  },
  {
   "cell_type": "code",
   "execution_count": null,
   "id": "d0ef3e2b",
   "metadata": {},
   "outputs": [],
   "source": [
    "#Code Block 155\n",
    "\n",
    "print(confusion_matrix(y_test, model_pred))\n",
    "\n",
    "print(classification_report(y_test, model_pred))"
   ]
  },
  {
   "cell_type": "code",
   "execution_count": null,
   "id": "a6b2c3ad",
   "metadata": {},
   "outputs": [],
   "source": [
    "#Code Block 156\n",
    "\n",
    "from sklearn import tree\n",
    "#import tree from sklearn library\n",
    "\n",
    "plt.rcParams['text.color'] = 'black'\n",
    "plt.figure(figsize=(27, 16), dpi=400)\n",
    "\n",
    "plot_tree(model, \n",
    "          filled=True, \n",
    "          rounded=True,\n",
    "          fontsize=14,\n",
    "          proportion=False,\n",
    "          class_names=[\"Survived\", \"Dead\"], \n",
    "          feature_names=X_names); \n",
    "#create a decision tree"
   ]
  },
  {
   "cell_type": "code",
   "execution_count": null,
   "id": "f9f839a3",
   "metadata": {},
   "outputs": [],
   "source": [
    "#Code Block 157\n",
    "\n",
    "print(confusion_matrix(y_test, model_pred))"
   ]
  },
  {
   "cell_type": "markdown",
   "id": "b0d39b9f",
   "metadata": {},
   "source": [
    "### Using Decision Tree Modeling create a model using scaled data\n"
   ]
  },
  {
   "cell_type": "code",
   "execution_count": null,
   "id": "b8d04ebd",
   "metadata": {},
   "outputs": [],
   "source": [
    "#Code Block 158\n",
    "\n",
    "#Set the X training and test datasets\n",
    "vartrain = X_train_sc\n",
    "vartest = X_test_sc\n",
    "\n",
    "#Set the model properties\n",
    "model = DecisionTreeClassifier(max_leaf_nodes=13, random_state = 1)\n",
    "\n",
    "modeltraintest(vartrain, vartest, y_train, y_test, model)"
   ]
  },
  {
   "cell_type": "code",
   "execution_count": null,
   "id": "6a43ade0",
   "metadata": {},
   "outputs": [],
   "source": [
    "#Code Block 159\n",
    "\n",
    "vartrain = X_train\n",
    "vartest = X_test\n",
    "model = DecisionTreeClassifier(max_leaf_nodes=13, random_state = 1)\n",
    "\n",
    "modeltraintest(vartrain, vartest, y_train, y_test, model)"
   ]
  },
  {
   "cell_type": "markdown",
   "id": "818c5a7f",
   "metadata": {},
   "source": [
    "#### Explanation:\n",
    "- Standard Scaled data doesn't perform as well as raw data and decision tree classifiers work better with the raw data. So, we use raw data for OPTIMAL and DECISION. \n",
    "- Just with setting the max_leaf_nodes=13 we got an accuracy sore of 0.83"
   ]
  },
  {
   "cell_type": "markdown",
   "id": "bbe023b8",
   "metadata": {},
   "source": [
    "### Fine-tune the model to find the OPTIMAL model\n",
    "#### Manually Setting the Properties for Decision Tree"
   ]
  },
  {
   "cell_type": "code",
   "execution_count": null,
   "id": "cbff4f40",
   "metadata": {},
   "outputs": [],
   "source": [
    "#Code Block 160\n",
    "\n",
    "est = range(1,20)\n",
    "scores = []\n",
    "var_est = 'max depth'\n",
    "\n",
    "for d in est:\n",
    "    classifier=DecisionTreeClassifier(max_depth = d, random_state = 1)\n",
    "    classifier=classifier.fit(X_train,y_train)\n",
    "    scores.append(classifier.score(X_test, y_test))\n",
    "    print(\"iteration {} done\".format(d))\n",
    "\n",
    "\n",
    "plt.plot(est, scores, '-o')\n",
    "plt.xlabel(var_est)\n",
    "plt.ylabel('scores')\n",
    "plt.xticks(est)\n",
    "plt.show()\n",
    "#show the scores for max_depth range in a plot "
   ]
  },
  {
   "cell_type": "code",
   "execution_count": null,
   "id": "4cd7f3be",
   "metadata": {},
   "outputs": [],
   "source": [
    "#Code Block 161\n",
    "\n",
    "est = range(20,40)\n",
    "scores = []\n",
    "var_est = 'max depth'\n",
    "\n",
    "for d in est:\n",
    "    classifier=DecisionTreeClassifier(max_depth = d, random_state = 1)\n",
    "    classifier=classifier.fit(X_train,y_train)\n",
    "    scores.append(classifier.score(X_test, y_test))\n",
    "    print(\"iteration {} done\".format(d))\n",
    "\n",
    "\n",
    "plt.plot(est, scores, '-o')\n",
    "plt.xlabel(var_est)\n",
    "plt.ylabel('scores')\n",
    "plt.xticks(est)\n",
    "plt.show()\n",
    "#show the scores for max_depth range in a plot "
   ]
  },
  {
   "cell_type": "code",
   "execution_count": null,
   "id": "04212de7",
   "metadata": {},
   "outputs": [],
   "source": [
    "#Code Block 162\n",
    "\n",
    "est = range(40,60)\n",
    "scores = []\n",
    "var_est = 'max depth'\n",
    "\n",
    "for d in est:\n",
    "    classifier=DecisionTreeClassifier(max_depth = d, random_state = 1)\n",
    "    classifier=classifier.fit(X_train,y_train)\n",
    "    scores.append(classifier.score(X_test, y_test))\n",
    "    print(\"iteration {} done\".format(d))\n",
    "\n",
    "\n",
    "plt.plot(est, scores, '-o')\n",
    "plt.xlabel(var_est)\n",
    "plt.ylabel('scores')\n",
    "plt.xticks(est)\n",
    "plt.show()\n",
    "#show the scores for max_depth range in a plot "
   ]
  },
  {
   "cell_type": "markdown",
   "id": "0f535818",
   "metadata": {},
   "source": [
    "#### We see the max score for max_depth  2 and 3"
   ]
  },
  {
   "cell_type": "code",
   "execution_count": null,
   "id": "6e8c2b16",
   "metadata": {},
   "outputs": [],
   "source": [
    "#Code Block 163\n",
    "\n",
    "vartrain = X_train\n",
    "vartest = X_test\n",
    "model = DecisionTreeClassifier(max_depth=9, random_state = 1)\n",
    "\n",
    "shorttraintest(vartrain, vartest, y_train, y_test, model)\n",
    "#run the model based on max_depth = 4"
   ]
  },
  {
   "cell_type": "code",
   "execution_count": null,
   "id": "242d4e0d",
   "metadata": {},
   "outputs": [],
   "source": [
    "#Code Block 164\n",
    "\n",
    "figsize=(20, 6)\n",
    "est = range(9, 30)\n",
    "scores = []\n",
    "var_est = 'max leaf nodes'\n",
    "\n",
    "for d in est:\n",
    "    classifier=DecisionTreeClassifier(max_depth = 9, max_leaf_nodes = d, random_state = 1)\n",
    "    classifier=classifier.fit(X_train,y_train)\n",
    "    scores.append(classifier.score(X_test, y_test))\n",
    "    print(\"iteration {} done\".format(d))\n",
    "\n",
    "\n",
    "plt.plot(est, scores, '-o')\n",
    "plt.xlabel(var_est)\n",
    "plt.ylabel('scores')\n",
    "plt.xticks(est)\n",
    "plt.show()\n",
    "##show the scores for max leaf nodes range (9,30) in a plot "
   ]
  },
  {
   "cell_type": "code",
   "execution_count": null,
   "id": "3690c4c0",
   "metadata": {},
   "outputs": [],
   "source": [
    "#Code Block 165\n",
    "\n",
    "figsize=(20, 5)\n",
    "est = range(30, 50)\n",
    "scores = []\n",
    "var_est = 'max leaf nodes'\n",
    "\n",
    "for d in est:\n",
    "    classifier=DecisionTreeClassifier(max_depth = 9, max_leaf_nodes = d, random_state = 1)\n",
    "    classifier=classifier.fit(X_train,y_train)\n",
    "    scores.append(classifier.score(X_test, y_test))\n",
    "    print(\"iteration {} done\".format(d))\n",
    "\n",
    "\n",
    "plt.plot(est, scores, '-o')\n",
    "plt.xlabel(var_est)\n",
    "plt.ylabel('scores')\n",
    "plt.xticks(est)\n",
    "plt.show()\n",
    "##show the scores for max leaf nodes range (9,30) in a plot "
   ]
  },
  {
   "cell_type": "code",
   "execution_count": null,
   "id": "3eaf61b4",
   "metadata": {},
   "outputs": [],
   "source": [
    "#Code Block 166\n",
    "\n",
    "vartrain = X_train\n",
    "vartest = X_test\n",
    "model = DecisionTreeClassifier(max_depth = 9, max_leaf_nodes = 23, class_weight=None, random_state = 1)\n",
    "#set max_depth = 9 and max_leaf_nodes = 23\n",
    "\n",
    "shorttraintest(vartrain, vartest, y_train, y_test, model)\n",
    "#run the model with the new parameters "
   ]
  },
  {
   "cell_type": "markdown",
   "id": "abf4df7c",
   "metadata": {},
   "source": [
    "### Checking our model with different class_weight"
   ]
  },
  {
   "cell_type": "code",
   "execution_count": null,
   "id": "637ea41d",
   "metadata": {
    "scrolled": false
   },
   "outputs": [],
   "source": [
    "#Code Block 167\n",
    "\n",
    "cw = [None, 'balanced', {0:1, 1:1.5}, {0:1, 1:2}, {0:1, 1:2.5}, {0:1, 1:3}, {0:1, 1:3.5}, {0:1, 1:4},\n",
    "     {0:1, 1:4.5}, {0:1, 1:5}, {0:1, 1:6}, {0:1, 1:8}, {0:1, 1:10}, {0:1, 1:11}, {0:1, 1:12},\n",
    "      {0:1, 1:13}, {0:1, 1:14},{0:1, 1:15}, {0:1, 1:18}, {0:1, 1:20}]\n",
    "\n",
    "vartrain = X_train\n",
    "vartest = X_test\n",
    "\n",
    "for w in cw:\n",
    "    print('----------------------')\n",
    "    vartitle = \"Model with Class Weight: \" + str(w) \n",
    "    varcw = w\n",
    "    model = DecisionTreeClassifier(max_depth = 9, max_leaf_nodes =23, class_weight=varcw, random_state = 1)\n",
    "    print(vartitle)\n",
    "    print('')\n",
    "    shorttraintest(vartrain, vartest, y_train, y_test, model)\n",
    "\n",
    "\n",
    "          \n",
    "print('----------------------')\n",
    "\n"
   ]
  },
  {
   "cell_type": "markdown",
   "id": "bee3eb0c",
   "metadata": {},
   "source": [
    "### Grid Search for Decision Tree"
   ]
  },
  {
   "cell_type": "code",
   "execution_count": null,
   "id": "ae41f435",
   "metadata": {},
   "outputs": [],
   "source": [
    "#Code Block 168\n",
    "\n",
    "from sklearn.model_selection import GridSearchCV\n",
    "\n",
    "\n",
    "grid={\"criterion\": ['gini', 'entropy'], \"max_depth\" : range(9,19),\n",
    "      \"max_leaf_nodes\" : range(22,29),\n",
    "      \"class_weight\": [None, 'balanced',{0:1, 1:2}, {0:1, 1:2.5}, {0:1, 1:3}, {0:1, 1:3.5},\n",
    "                       {0:1, 1:10}, {0:1, 1:11}, {0:1, 1:12}]}\n",
    "model_random = DecisionTreeClassifier(random_state = 1)\n",
    "model_cv=GridSearchCV(model_random,grid,cv=5)\n",
    "model_cv.fit(vartrain,y_train)\n",
    "\n",
    "\n",
    "print(\"tuned hyperparameters :(best parameters) \",model_cv.best_params_)\n",
    "print(\"accuracy :\",model_cv.best_score_)"
   ]
  },
  {
   "cell_type": "markdown",
   "id": "d6fda68b",
   "metadata": {},
   "source": [
    "### Running Decision Tree model with best parameters"
   ]
  },
  {
   "cell_type": "code",
   "execution_count": null,
   "id": "adeeea83",
   "metadata": {},
   "outputs": [],
   "source": [
    "#Code Block 169\n",
    "\n",
    "#Set the X training and test datasets\n",
    "vartrain = X_train\n",
    "vartest = X_test\n",
    "\n",
    "#Set the model properties\n",
    "model_dt = DecisionTreeClassifier(max_depth = 9, max_leaf_nodes = 26, \n",
    "                               class_weight={0: 1, 1: 11}, criterion = 'entropy', random_state = 1)\n",
    "\n",
    "#Assess with the model\n",
    "model_dt.fit(vartrain, y_train)\n",
    "\n",
    "#Predict with the model\n",
    "model_pred = model_dt.predict(vartest)\n",
    "model_prob = model_dt.predict_proba(vartest)\n",
    "\n",
    "\n",
    "print('Confusion Matrix:')\n",
    "cm_dt = confusion_matrix(y_test, model_pred)\n",
    "print(cm_dt)\n",
    "print(\"\")\n",
    "\n",
    "#Assess with the model\n",
    "score = model_dt.score(vartest, y_test)\n",
    "score_format = 'Accuracy Score: {0:.4f}'.format(score)\n",
    "print(score_format)\n",
    "\n",
    "recall = recall_score(y_test, model_pred)\n",
    "recall_format = 'Recall Score: {0:.4f}'.format(recall)\n",
    "print(recall_format)\n",
    "\n",
    "precision = precision_score(y_test, model_pred)\n",
    "precision_format = 'Precision Score: {0:.4f}'.format(precision)\n",
    "print(precision_format)\n",
    "\n",
    "y_pred_prob = model_dt.predict_proba(vartest)[:,1]\n",
    "\n",
    "dt_fpr, dt_tpr, thresholds = roc_curve(y_test, y_pred_prob)\n",
    "\n",
    "plt.plot([0, 1], [0, 1],'k--')\n",
    "plt.plot(dt_fpr, dt_tpr, label='Decision Tree')\n",
    "plt.xlabel('False Positive Rate')\n",
    "plt.ylabel('True Positive Rate')\n",
    "plt.title('Decision Tree ROC Curve ROC Curve')\n",
    "plt.show();\n"
   ]
  },
  {
   "cell_type": "code",
   "execution_count": null,
   "id": "54b8d346",
   "metadata": {},
   "outputs": [],
   "source": [
    "#Code Block 170\n",
    "\n",
    "vartrain = X_train\n",
    "vartest = X_test\n",
    "model = DecisionTreeClassifier(max_depth = 9, max_leaf_nodes = 26, class_weight={0:1, 1:11},\n",
    "                               criterion = 'entropy', random_state = 1)\n",
    "#set max_depth = 2 and max_leaf_nodes = 9 \n",
    "\n",
    "shorttraintest(vartrain, vartest, y_train, y_test, model)\n",
    "#run the model with the new parameters "
   ]
  },
  {
   "cell_type": "code",
   "execution_count": null,
   "id": "2f9f8298",
   "metadata": {},
   "outputs": [],
   "source": [
    "#Code Block 171\n",
    "\n",
    "vartrain = X_train\n",
    "vartest = X_test\n",
    "model = DecisionTreeClassifier(max_depth = 9, max_leaf_nodes =23, class_weight={0:1, 1:11},\n",
    "                               criterion = 'gini', random_state = 1)\n",
    "#set max_depth = 4 and max_leaf_nodes = 9 \n",
    "\n",
    "shorttraintest(vartrain, vartest, y_train, y_test, model)\n",
    "#run the model with the new parameters "
   ]
  },
  {
   "cell_type": "markdown",
   "id": "ac73212d",
   "metadata": {},
   "source": [
    "### Fine-tune the model to find the DECISION model\n"
   ]
  },
  {
   "cell_type": "code",
   "execution_count": null,
   "id": "44b2a3db",
   "metadata": {
    "scrolled": false
   },
   "outputs": [],
   "source": [
    "#Code Block 172\n",
    "\n",
    "cw = [None, 'balanced', {0:1, 1:1.5}, {0:1, 1:2}, {0:1, 1:2.5},{0:1, 1:2.6},{0:1, 1:2.65},{0:1, 1:12.7},{0:1, 1:2.75},{0:1, 1:3}, {0:1, 1:3.5}, {0:1, 1:4},\n",
    "      {0:1, 1:4.5}, {0:1, 1:5}, {0:1, 1:10},{0:1, 1:11}, {0:1, 1:12},{0:1, 1:13}, {0:1, 1:16.5},{0:1, 1:17},\n",
    "      {0:1, 1:17.5},{0:1, 1:18}]\n",
    "\n",
    "vartrain = X_train\n",
    "vartest = X_test\n",
    "\n",
    "for w in cw:\n",
    "    print('----------------------')\n",
    "    vartitle = \"Model with Class Weight: \" + str(w) \n",
    "    varcw = w\n",
    "    #Set the model properties\n",
    "    model = DecisionTreeClassifier(max_depth = 9, max_leaf_nodes = 23, \n",
    "                               class_weight=varcw, criterion = 'gini', random_state = 1)\n",
    "    #Assess with the model\n",
    "    print(vartitle)\n",
    "    print('')\n",
    "    shorttraintest(vartrain, vartest, y_train, y_test, model)\n",
    "\n",
    "\n",
    "          \n",
    "print('----------------------')\n"
   ]
  },
  {
   "cell_type": "markdown",
   "id": "87f6d6c9",
   "metadata": {},
   "source": [
    "### Explanation : Model with Class Weight: {0: 1, 1: 3} works good as it gives us an accuracy score of 0.7889 and Recall score of 0.8108. Optimal and Decision model are the same here. "
   ]
  },
  {
   "cell_type": "code",
   "execution_count": null,
   "id": "7a1d0306",
   "metadata": {},
   "outputs": [],
   "source": [
    "#Code Block 173\n",
    "\n",
    "#Set the X training and test datasets\n",
    "vartrain = X_train\n",
    "vartest = X_test\n",
    "\n",
    "#Set the model properties\n",
    "model_dt_10 = DecisionTreeClassifier(max_depth = 9, max_leaf_nodes = 23, \n",
    "                               class_weight={0: 1, 1: 10}, criterion = 'gini', random_state = 1)\n",
    "\n",
    "#Assess with the model\n",
    "model_dt_10.fit(vartrain, y_train)\n",
    "\n",
    "#Predict with the model\n",
    "model_pred = model_dt_10.predict(vartest)\n",
    "model_prob = model_dt_10.predict_proba(vartest)\n",
    "\n",
    "\n",
    "print('Confusion Matrix:')\n",
    "cm_dt_10 = confusion_matrix(y_test, model_pred)\n",
    "print(cm_dt_10)\n",
    "print(\"\")\n",
    "\n",
    "#Assess with the model\n",
    "score = model_dt_10.score(vartest, y_test)\n",
    "score_format = 'Accuracy Score: {0:.4f}'.format(score)\n",
    "print(score_format)\n",
    "\n",
    "recall = recall_score(y_test, model_pred)\n",
    "recall_format = 'Recall Score: {0:.4f}'.format(recall)\n",
    "print(recall_format)\n",
    "\n",
    "precision = precision_score(y_test, model_pred)\n",
    "precision_format = 'Precision Score: {0:.4f}'.format(precision)\n",
    "print(precision_format)\n",
    "\n",
    "y_pred_prob = model_dt_10.predict_proba(vartest)[:,1]\n",
    "\n",
    "dt_10_fpr, dt_10_tpr, thresholds = roc_curve(y_test, y_pred_prob)\n",
    "\n",
    "plt.plot([0, 1], [0, 1],'k--')\n",
    "plt.plot(dt_10_fpr, dt_10_tpr, label='Decision Tree ROC Curve')\n",
    "plt.xlabel('False Positive Rate')\n",
    "plt.ylabel('True Positive Rate')\n",
    "plt.title('Decision Tree Classifier ROC Curve')\n",
    "plt.show();"
   ]
  },
  {
   "cell_type": "code",
   "execution_count": null,
   "id": "38ec4117",
   "metadata": {},
   "outputs": [],
   "source": [
    "#Code Block 174\n",
    "\n",
    "vartrain = X_train\n",
    "vartest = X_test\n",
    "model = DecisionTreeClassifier(max_depth = 9, max_leaf_nodes =23, class_weight={0:1, 1:10},\n",
    "                               criterion = 'gini', random_state = 1)\n",
    "#set max_depth = 4 and max_leaf_nodes = 9 \n",
    "\n",
    "shorttraintest(vartrain, vartest, y_train, y_test, model)\n",
    "#run the model with the new parameters "
   ]
  },
  {
   "cell_type": "code",
   "execution_count": null,
   "id": "13d05605",
   "metadata": {
    "scrolled": false
   },
   "outputs": [],
   "source": [
    "#Code Block 175\n",
    "\n",
    "from sklearn import tree\n",
    "\n",
    "plt.rcParams['text.color'] = 'black'\n",
    "plt.figure(figsize=(27, 16), dpi=400)\n",
    "\n",
    "plot_tree(model, \n",
    "          filled=True, \n",
    "          rounded=True,\n",
    "          fontsize=14,\n",
    "          proportion=False,\n",
    "          class_names=[\"Survived\", \"Dead\"], \n",
    "          feature_names=X_names); "
   ]
  },
  {
   "cell_type": "code",
   "execution_count": null,
   "id": "d2e1f9ea",
   "metadata": {},
   "outputs": [],
   "source": [
    "#Code Block 176\n",
    "\n",
    "vartrain = X_train_sc\n",
    "vartest = X_test_sc\n",
    "\n",
    "model = DecisionTreeClassifier(max_depth = 9, max_leaf_nodes = 23, \n",
    "                               class_weight=None, criterion = 'gini', random_state = 1)\n",
    "model.fit(vartrain, y_train)\n",
    "\n",
    "model_pred = model.predict(vartest)\n",
    "\n",
    "cm_dt_opt = pd.DataFrame(confusion_matrix(y_test, model_pred))\n",
    "#crete a confusion matrix dataframe for optimal model"
   ]
  },
  {
   "cell_type": "code",
   "execution_count": null,
   "id": "ef9a0df5",
   "metadata": {},
   "outputs": [],
   "source": [
    "#Code Block 177\n",
    "\n",
    "plt.figure(figsize=(20,6))\n",
    "\n",
    "plt.subplot(121)\n",
    "\n",
    "plt.title('Confusion Matrix for Optimal Model in Decision Tree model-class weight=None', fontweight='bold', color = 'black', fontsize='12', horizontalalignment='center')\n",
    "chart = sns.heatmap(cm_dt_opt, annot=True, cmap=\"Blues\", annot_kws={\"size\": 16}, fmt=\"g\")\n",
    "chart.set_xlabel('Predicted', fontsize=15)\n",
    "chart.set_ylabel('True', fontsize=15)\n",
    "chart.xaxis.set_ticklabels([\"Survived\", \"Dead\"], fontsize=12)\n",
    "chart.yaxis.set_ticklabels([\"Survived\", \"Dead\"], fontsize=12, va='center')\n",
    "\n",
    "\n",
    "plt.subplot(122)\n",
    "plt.title('Confusion Matrix for Decision model in Decision Tree model-class weight=''{1:10}', fontweight='bold', color = 'black', fontsize='12', horizontalalignment='center')\n",
    "chart = sns.heatmap(cm_dt_10, annot=True, cmap=\"Greens\", annot_kws={\"size\": 16}, fmt=\"g\")\n",
    "chart.set_xlabel('Predicted', fontsize=15)\n",
    "chart.set_ylabel('True', fontsize=15)\n",
    "chart.xaxis.set_ticklabels([\"Survived\", \"Dead\"], fontsize=12)\n",
    "chart.yaxis.set_ticklabels([\"Survived\", \"Dead\"], fontsize=12, va='center')"
   ]
  },
  {
   "cell_type": "code",
   "execution_count": null,
   "id": "a7df4c18",
   "metadata": {},
   "outputs": [],
   "source": [
    "#Code Block 178\n",
    "\n",
    "# Create Overall ROC Curve \n",
    "plt.figure(figsize = (13,12))\n",
    "plt.suptitle('ROC Curves - Competing Classification Methodologies', fontweight='bold', fontsize=18, y=.92)\n",
    "plt.plot(dt_fpr, dt_tpr, label='cw=None')\n",
    "plt.plot(dt_10_fpr, dt_10_tpr, label='cw={1:10}')\n",
    "plt.plot([0,1], [0,1], linestyle='--')\n",
    "plt.xlim([-0.05, 1.05])\n",
    "plt.ylim([-0.05, 1.05])\n",
    "plt.xlabel('FPR', fontsize=14)\n",
    "plt.ylabel('TPR', fontsize=14)\n",
    "plt.legend(loc=\"lower right\", frameon=False, fontsize=12)\n",
    "plt.show()"
   ]
  },
  {
   "cell_type": "markdown",
   "id": "4222d21a",
   "metadata": {},
   "source": [
    "- The orange on with cw ={1:10} seems the best."
   ]
  },
  {
   "cell_type": "code",
   "execution_count": null,
   "id": "d0490b23",
   "metadata": {},
   "outputs": [],
   "source": [
    "#Code Block 179\n",
    "\n",
    "model_pred = pd.DataFrame(model_pred)\n",
    "#create a dataframe for model_pred\n",
    "\n",
    "model_pred = model_pred.rename(columns = {0:'Pred_DEC_dt'})\n",
    "#rename column\n",
    "model_pred.head()"
   ]
  },
  {
   "cell_type": "code",
   "execution_count": null,
   "id": "2fbcb1be",
   "metadata": {},
   "outputs": [],
   "source": [
    "#Code Block 180\n",
    "\n",
    "X_names = pd.DataFrame(list(X.columns))"
   ]
  },
  {
   "cell_type": "code",
   "execution_count": null,
   "id": "9bd5e41f",
   "metadata": {},
   "outputs": [],
   "source": [
    "#Code Block 181\n",
    "\n",
    "df_fi = pd.DataFrame(model_dt.feature_importances_)\n",
    "#create a dataframe for feature importance for OPTICAL model\n",
    "df_fi"
   ]
  },
  {
   "cell_type": "code",
   "execution_count": null,
   "id": "aceaf846",
   "metadata": {},
   "outputs": [],
   "source": [
    "#Code Block 182\n",
    "\n",
    "df_fi_10 = pd.DataFrame(model_dt_10.feature_importances_)\n",
    "#create a dataframe for feature importance for DECISION model"
   ]
  },
  {
   "cell_type": "code",
   "execution_count": null,
   "id": "8d5d978c",
   "metadata": {},
   "outputs": [],
   "source": [
    "#Code Block 183\n",
    "\n",
    "df_feat_imp = pd.concat([X_names, df_fi, df_fi_10], axis = 1)\n",
    "#concatenate X_names, df_fi, and df_fi_10 to create a feature importance table \n",
    "df_feat_imp.columns = ['Features', 'dt_importance', 'dt_10_importance']\n",
    "#create name of the columns for feature importance table \n",
    "df_feat_imp"
   ]
  },
  {
   "cell_type": "markdown",
   "id": "383f6cdc",
   "metadata": {},
   "source": [
    "### Shows all features that are above 0"
   ]
  },
  {
   "cell_type": "code",
   "execution_count": null,
   "id": "761a5f16",
   "metadata": {},
   "outputs": [],
   "source": [
    "#Code Block 184\n",
    "\n",
    "df_feat_imp[(df_feat_imp['dt_10_importance']!=0)].sort_values('dt_10_importance', ascending = False)"
   ]
  },
  {
   "cell_type": "code",
   "execution_count": null,
   "id": "6b0e263e",
   "metadata": {},
   "outputs": [],
   "source": [
    "#Code Block 185\n",
    "\n",
    "df_feat_imp1 = pd.concat([X_names, df_fi_10], axis = 1)\n",
    "#concatenate X_names and df_fi_2 to create a feature importance table \n",
    "df_feat_imp1.columns = ['Features','dt_10_importance']\n",
    "#create name of the columns for feature importance table \n",
    "df_feat_imp1"
   ]
  },
  {
   "cell_type": "code",
   "execution_count": null,
   "id": "ad39238d",
   "metadata": {},
   "outputs": [],
   "source": [
    "#Code Block 186\n",
    "\n",
    "df_feat_imp1[(df_feat_imp1['dt_10_importance']!=0)].sort_values('dt_10_importance', ascending = False)"
   ]
  },
  {
   "cell_type": "code",
   "execution_count": null,
   "id": "66e5161d",
   "metadata": {},
   "outputs": [],
   "source": [
    "#Code Block 187\n",
    "\n",
    "importance = pd.DataFrame({\"Importance\": model.feature_importances_ * 100},\n",
    "                         index = pd.DataFrame(X_train).columns)\n",
    "importance.sort_values(by = \"Importance\",\n",
    "                       axis = 0,\n",
    "                       ascending = True).plot(kind = \"bar\", color = \"green\")\n",
    "plt.title('Feature Importances in Decision Tree Classifier')\n",
    "plt.xlabel(\"Importance levels of the variables\")\n",
    "plt.ylabel(\"Variables\")"
   ]
  },
  {
   "cell_type": "code",
   "execution_count": null,
   "id": "8314f24a",
   "metadata": {},
   "outputs": [],
   "source": [
    "#Code Block 188\n",
    "\n",
    "model = [\n",
    "         \n",
    "#Logistic Regression \n",
    "        \n",
    "         (X_train_sc, X_test_sc, y_train,'Logistic',\n",
    "          LogisticRegression(random_state = 1, C = 0.1, class_weight =None, penalty = 'l1', solver = 'liblinear')),\n",
    "        \n",
    "         \n",
    "#Decision Tree \n",
    "        \n",
    "         (X_train, X_test, y_train,'DecisionTree',\n",
    "          DecisionTreeClassifier(max_depth = 9, max_leaf_nodes =23, class_weight={0:1, 1:10},\n",
    "                               criterion = 'gini', random_state = 1)),\n",
    "         \n",
    "\n",
    "#Random Forest \n",
    "    \n",
    "         (X_train, X_test, y_train, 'RandomForest',\n",
    "          RandomForestClassifier(max_depth = 6, max_features = 3, n_estimators = 100,\n",
    "                               class_weight = {0: 1, 1: 5}, criterion = 'gini', random_state = 1)),\n",
    "]         \n",
    "         \n",
    "          \n",
    "cm_all = pd.DataFrame(columns=['Type', 'pred_survived', 'pred_dead','Score', 'Recall', 'Precision','F1'])\n",
    "#create a new dataframe with above columns \n",
    "\n",
    "\n",
    "for tr, tst, yt, n, m in model:\n",
    "    m.fit(tr, yt)\n",
    "    model_pred = m.predict(tst)\n",
    "    model_prob = m.predict_proba(tst)\n",
    "    score = m.score(tst, y_test)\n",
    "    score_format = '{0:.4f}'.format(score)\n",
    "    \n",
    "    recall = recall_score(y_test, model_pred)\n",
    "    recall_format = '{0:.4f}'.format(recall)\n",
    "    \n",
    "    f1 = f1_score(y_test, model_pred)\n",
    "    f1_format = '{0:.4f}'.format(f1) \n",
    "    \n",
    "    precision = precision_score(y_test, model_pred)\n",
    "    precision_format = '{0:.4f}'.format(precision)\n",
    "    \n",
    "    y_pred_prob = m.predict_proba(tst)[:,1]\n",
    "    fpr, tpr, thresholds = roc_curve(y_test, y_pred_prob)\n",
    "    exec(f'fpr_{n} = fpr')\n",
    "    exec(f'tpr_{n} = tpr')\n",
    "    exec(f'thresholds_{n} = thresholds')\n",
    "    exec(f'{n} = n')\n",
    "\n",
    "    cm = pd.DataFrame(confusion_matrix(y_test, model_pred))\n",
    "    cm=cm.rename(columns = {0:'pred_survived', 1:'pred_dead'})\n",
    "    \n",
    "    exec(f'cm_{n} = cm')\n",
    "    cm['Type'] = n\n",
    "    cm['Score'] = score_format\n",
    "    cm['Recall'] = recall_format\n",
    "    cm['Precision'] = precision_format\n",
    "    cm['F1'] = f1_format\n",
    "    cm_all = pd.concat([cm_all, cm], axis=0)\n",
    "    print(n + \" - Score: \" + str(score_format) + \" - Recall: \" +\n",
    "    str(recall_format) + \" - Precision: \" + str(precision_format) + \" - F1: \" +\n",
    "    str(f1_format))\n",
    "    print('----------------------------------------------------------------')\n",
    "\n",
    "\n",
    "cm_all = cm_all.reset_index()\n",
    "cm_all['index'] = np.where(cm_all['index']==0, 'Survived', 'Dead')\n",
    "cm_all = cm_all.rename(columns={'index':'actual'})\n",
    "\n",
    "display(cm_all)\n",
    "\n",
    "print('--------------------------------------------------------------------')\n"
   ]
  },
  {
   "cell_type": "code",
   "execution_count": null,
   "id": "d19122c0",
   "metadata": {},
   "outputs": [],
   "source": [
    "fpr_Logistic"
   ]
  },
  {
   "cell_type": "code",
   "execution_count": null,
   "id": "c237ff3f",
   "metadata": {},
   "outputs": [],
   "source": [
    "#Code Block 189\n",
    "\n",
    "# Create Overall ROC Curve \n",
    "plt.figure(figsize = (13,12))\n",
    "plt.suptitle('ROC Curves - Competing Classifications', fontweight='bold', fontsize=18, y=.92)\n",
    "plt.plot(fpr_Logistic, tpr_Logistic, label='Logistic')\n",
    "plt.plot(fpr_DecisionTree, tpr_DecisionTree, label='DecisionTree')\n",
    "plt.plot(fpr_RandomForest, tpr_RandomForest, label='RandomForest')\n",
    "\n",
    "plt.plot([0,1], [0,1], linestyle='--')\n",
    "plt.xlim([-0.05, 1.05])\n",
    "plt.ylim([-0.05, 1.05])\n",
    "plt.xlabel('False Positive Rate', fontsize=14)\n",
    "plt.ylabel('True Positive Rate', fontsize=14)\n",
    "plt.legend(loc=\"lower right\", frameon=False, fontsize=12)\n",
    "plt.show()"
   ]
  },
  {
   "cell_type": "markdown",
   "id": "fbf81c35",
   "metadata": {},
   "source": [
    "### Explanation: \n",
    "- The above graph shows random forest model performs better among all models in this project. "
   ]
  },
  {
   "cell_type": "code",
   "execution_count": null,
   "id": "a8f6c585",
   "metadata": {},
   "outputs": [],
   "source": [
    "#Code Block 190\n",
    "\n",
    "# Create Overall ROC Curve \n",
    "plt.figure(figsize = (13,12))\n",
    "plt.suptitle('ROC Curves - Competing Classifications', fontweight='bold', fontsize=18, y=.92)\n",
    "plt.plot(fpr_Logistic, tpr_Logistic, label='Logistic')\n",
    "plt.plot(fpr_RandomForest, tpr_RandomForest, label='RandomForest')\n",
    "\n",
    "plt.plot([0,1], [0,1], linestyle='--')\n",
    "plt.xlim([-0.05, 1.05])\n",
    "plt.ylim([-0.05, 1.05])\n",
    "plt.xlabel('False Positive Rate', fontsize=14)\n",
    "plt.ylabel('True Positive Rate', fontsize=14)\n",
    "plt.legend(loc=\"lower right\", frameon=False, fontsize=12)\n",
    "plt.show()"
   ]
  },
  {
   "cell_type": "raw",
   "id": "cbcc00e0",
   "metadata": {},
   "source": [
    "#Code Block 191\n",
    "\n",
    "def comp_esti(esti):\n",
    "    esti.fit(X_train, y_train)\n",
    "    esti_test_preds = esti.predict(X_test)\n",
    "    \n",
    "    print(f\"{esti} Accuracy score: \", accuracy_score(y_test, esti_test_preds))\n",
    "    print(f\"\\n{esti} Classification report:\\n\", classification_report(y_test, esti_test_preds, digits=6))\n",
    "    \n",
    "    # confusion matrix\n",
    "    cf_mat = confusion_matrix(y_test, esti_test_preds)\n",
    "    fig, ax = plt.subplots(figsize=(10, 8))\n",
    "    sns.heatmap(data=cf_mat, annot=True, ax=ax)\n",
    "    plt.show()"
   ]
  },
  {
   "cell_type": "raw",
   "id": "517b812c",
   "metadata": {
    "scrolled": false
   },
   "source": [
    "#Code Block 192\n",
    "\n",
    "estimators = [\n",
    "    LogisticRegression(random_state=1, C = 0.1, class_weight =None, penalty = 'l1', solver = 'liblinear'),\n",
    "    DecisionTreeClassifier(max_depth = 9, max_leaf_nodes =23, class_weight={0:1, 1:10},\n",
    "                               criterion = 'gini', random_state = 1),\n",
    "    RandomForestClassifier(max_depth = 6, max_features = 3, n_estimators = 100,\n",
    "                               class_weight = {0: 1, 1: 5}, criterion = 'gini', random_state = 1),  \n",
    "]\n",
    "\n",
    "for esti in estimators:\n",
    "    comp_esti(esti)\n"
   ]
  },
  {
   "cell_type": "raw",
   "id": "0f9313bd",
   "metadata": {},
   "source": [
    "#Code Block 193\n",
    "\n",
    "# Voting classifier\n",
    "\n",
    "from sklearn.ensemble import VotingClassifier\n",
    "\n",
    "est1 = LogisticRegression(random_state = 1, C = 0.1, class_weight =None, penalty = 'l1', solver = 'liblinear')\n",
    "est2 = DecisionTreeClassifier(max_depth = 9, max_leaf_nodes =23, class_weight={0:1, 1:10},\n",
    "                               criterion = 'gini', random_state = 1)\n",
    "est3 = RandomForestClassifier(max_depth = 6, max_features = 3, n_estimators = 100,\n",
    "                               class_weight = {0: 1, 1: 5}, criterion = 'gini', random_state = 1)\n",
    "        \n",
    "est_final = VotingClassifier(estimators=[\n",
    "    (\"logr\", est1), (\"dtc\", est2),(\"rfc\", est3)\n",
    "], voting=\"soft\")\n",
    "\n",
    "comp_esti(est_final)\n"
   ]
  },
  {
   "cell_type": "raw",
   "id": "887536c2",
   "metadata": {},
   "source": [
    "#Code Block 194\n",
    "\n",
    "plt.plot(fpr1, tpr1, linestyle='--',color='orange', label='Logistic')\n",
    "plt.plot(fpr2, tpr2, linestyle='--',color='green', label='DecisionTree')\n",
    "plt.plot(fpr3, tpr3, linestyle='--',color='green', label='RndomForest')\n",
    "\n",
    "plt.plot(p_fpr, p_tpr, linestyle='--', color='blue')\n",
    "# title\n",
    "plt.title('ROC curve')\n",
    "# x label\n",
    "plt.xlabel('False Positive Rate')\n",
    "# y label\n",
    "plt.ylabel('True Positive rate')\n",
    "\n",
    "plt.legend(loc='best')\n",
    "plt.savefig('ROC',dpi=300)\n",
    "plt.show();"
   ]
  },
  {
   "cell_type": "code",
   "execution_count": null,
   "id": "0c353636",
   "metadata": {},
   "outputs": [],
   "source": []
  }
 ],
 "metadata": {
  "kernelspec": {
   "display_name": "Python 3 (ipykernel)",
   "language": "python",
   "name": "python3"
  },
  "language_info": {
   "codemirror_mode": {
    "name": "ipython",
    "version": 3
   },
   "file_extension": ".py",
   "mimetype": "text/x-python",
   "name": "python",
   "nbconvert_exporter": "python",
   "pygments_lexer": "ipython3",
   "version": "3.9.13"
  }
 },
 "nbformat": 4,
 "nbformat_minor": 5
}
